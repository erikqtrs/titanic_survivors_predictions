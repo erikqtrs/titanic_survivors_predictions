{
 "cells": [
  {
   "cell_type": "markdown",
   "metadata": {
    "id": "DuZPulE2D5AT"
   },
   "source": [
    "# Titanic Survival Passengers Prediction"
   ]
  },
  {
   "cell_type": "markdown",
   "metadata": {
    "id": "GjeyRnbLD5Al"
   },
   "source": [
    "<div align= center> <img src= './titanic.jpeg'/> </div>\n",
    "\n",
    "RMS Titanic was a British passenger liner, operated by the White Star Line, wich sank in the North Atlantic Ocean on 15 April 1912 after striking an iceberg during her maiden  voyage from Southampton to New York City.\n",
    "\n",
    "Of the estimated 2224 passengers and crew aboard, more 1500 died and 705 survived..\n",
    "\n",
    "In this notebook, we will analyze the dataset and make a prediction model to see wich passengers  on board the ship would survive."
   ]
  },
  {
   "cell_type": "markdown",
   "metadata": {
    "id": "nyeLLw_5D5An"
   },
   "source": [
    "## Dataset Columns\n",
    "\n",
    "- pssengerid \n",
    "- survived - 0 if the passenger not survived, 1 if survived\n",
    "- pclass - passenger class, 1: 1st clas, 2: 2nd class and 3: 3rd class\n",
    "- name- passenger name\n",
    "- sex - passenger sex; 1: male, 0:female\n",
    "- age - passenger age\n",
    "- sibsp - number of siblings/spouses aboard\n",
    "- parch - number of perants/children aboard\n",
    "- ticket - number of ticket\n",
    "- fare - passenger fare\n",
    "- cabin \n",
    "- embarked - port of embarkation, (C: Cherbourg, Q: Queenstown, S: Southampton)"
   ]
  },
  {
   "cell_type": "markdown",
   "metadata": {
    "id": "53GJ6ZY5D5Ap"
   },
   "source": [
    "### Imports"
   ]
  },
  {
   "cell_type": "code",
   "execution_count": 2,
   "metadata": {
    "executionInfo": {
     "elapsed": 17,
     "status": "ok",
     "timestamp": 1645468316912,
     "user": {
      "displayName": "Erik Carcelen",
      "photoUrl": "https://lh3.googleusercontent.com/a/default-user=s64",
      "userId": "05805179184931102102"
     },
     "user_tz": 300
    },
    "id": "iRr1ii1YD5Ar"
   },
   "outputs": [],
   "source": [
    "import numpy as np\n",
    "import pandas as pd\n",
    "import matplotlib.pyplot as plt\n",
    "import seaborn as sns"
   ]
  },
  {
   "cell_type": "code",
   "execution_count": 3,
   "metadata": {
    "executionInfo": {
     "elapsed": 248,
     "status": "ok",
     "timestamp": 1645468317148,
     "user": {
      "displayName": "Erik Carcelen",
      "photoUrl": "https://lh3.googleusercontent.com/a/default-user=s64",
      "userId": "05805179184931102102"
     },
     "user_tz": 300
    },
    "id": "174xQRV_D5Ay"
   },
   "outputs": [],
   "source": [
    "titanic_df = pd.read_csv('./titanic.csv')\n",
    "test_df = pd.read_csv('./test.csv')"
   ]
  },
  {
   "cell_type": "code",
   "execution_count": 4,
   "metadata": {
    "colab": {
     "base_uri": "https://localhost:8080/",
     "height": 354
    },
    "executionInfo": {
     "elapsed": 72,
     "status": "ok",
     "timestamp": 1645468317497,
     "user": {
      "displayName": "Erik Carcelen",
      "photoUrl": "https://lh3.googleusercontent.com/a/default-user=s64",
      "userId": "05805179184931102102"
     },
     "user_tz": 300
    },
    "id": "ReaUbSSlD5Az",
    "outputId": "27c86094-71da-4b28-a595-738d3e40f749"
   },
   "outputs": [
    {
     "data": {
      "text/html": [
       "<div>\n",
       "<style scoped>\n",
       "    .dataframe tbody tr th:only-of-type {\n",
       "        vertical-align: middle;\n",
       "    }\n",
       "\n",
       "    .dataframe tbody tr th {\n",
       "        vertical-align: top;\n",
       "    }\n",
       "\n",
       "    .dataframe thead th {\n",
       "        text-align: right;\n",
       "    }\n",
       "</style>\n",
       "<table border=\"1\" class=\"dataframe\">\n",
       "  <thead>\n",
       "    <tr style=\"text-align: right;\">\n",
       "      <th></th>\n",
       "      <th>PassengerId</th>\n",
       "      <th>Survived</th>\n",
       "      <th>Pclass</th>\n",
       "      <th>Name</th>\n",
       "      <th>Sex</th>\n",
       "      <th>Age</th>\n",
       "      <th>SibSp</th>\n",
       "      <th>Parch</th>\n",
       "      <th>Ticket</th>\n",
       "      <th>Fare</th>\n",
       "      <th>Cabin</th>\n",
       "      <th>Embarked</th>\n",
       "    </tr>\n",
       "  </thead>\n",
       "  <tbody>\n",
       "    <tr>\n",
       "      <th>0</th>\n",
       "      <td>1</td>\n",
       "      <td>0</td>\n",
       "      <td>3</td>\n",
       "      <td>Braund, Mr. Owen Harris</td>\n",
       "      <td>male</td>\n",
       "      <td>22.0</td>\n",
       "      <td>1</td>\n",
       "      <td>0</td>\n",
       "      <td>A/5 21171</td>\n",
       "      <td>7.2500</td>\n",
       "      <td>NaN</td>\n",
       "      <td>S</td>\n",
       "    </tr>\n",
       "    <tr>\n",
       "      <th>1</th>\n",
       "      <td>2</td>\n",
       "      <td>1</td>\n",
       "      <td>1</td>\n",
       "      <td>Cumings, Mrs. John Bradley (Florence Briggs Th...</td>\n",
       "      <td>female</td>\n",
       "      <td>38.0</td>\n",
       "      <td>1</td>\n",
       "      <td>0</td>\n",
       "      <td>PC 17599</td>\n",
       "      <td>71.2833</td>\n",
       "      <td>C85</td>\n",
       "      <td>C</td>\n",
       "    </tr>\n",
       "    <tr>\n",
       "      <th>2</th>\n",
       "      <td>3</td>\n",
       "      <td>1</td>\n",
       "      <td>3</td>\n",
       "      <td>Heikkinen, Miss. Laina</td>\n",
       "      <td>female</td>\n",
       "      <td>26.0</td>\n",
       "      <td>0</td>\n",
       "      <td>0</td>\n",
       "      <td>STON/O2. 3101282</td>\n",
       "      <td>7.9250</td>\n",
       "      <td>NaN</td>\n",
       "      <td>S</td>\n",
       "    </tr>\n",
       "    <tr>\n",
       "      <th>3</th>\n",
       "      <td>4</td>\n",
       "      <td>1</td>\n",
       "      <td>1</td>\n",
       "      <td>Futrelle, Mrs. Jacques Heath (Lily May Peel)</td>\n",
       "      <td>female</td>\n",
       "      <td>35.0</td>\n",
       "      <td>1</td>\n",
       "      <td>0</td>\n",
       "      <td>113803</td>\n",
       "      <td>53.1000</td>\n",
       "      <td>C123</td>\n",
       "      <td>S</td>\n",
       "    </tr>\n",
       "    <tr>\n",
       "      <th>4</th>\n",
       "      <td>5</td>\n",
       "      <td>0</td>\n",
       "      <td>3</td>\n",
       "      <td>Allen, Mr. William Henry</td>\n",
       "      <td>male</td>\n",
       "      <td>35.0</td>\n",
       "      <td>0</td>\n",
       "      <td>0</td>\n",
       "      <td>373450</td>\n",
       "      <td>8.0500</td>\n",
       "      <td>NaN</td>\n",
       "      <td>S</td>\n",
       "    </tr>\n",
       "  </tbody>\n",
       "</table>\n",
       "</div>"
      ],
      "text/plain": [
       "   PassengerId  Survived  Pclass  \\\n",
       "0            1         0       3   \n",
       "1            2         1       1   \n",
       "2            3         1       3   \n",
       "3            4         1       1   \n",
       "4            5         0       3   \n",
       "\n",
       "                                                Name     Sex   Age  SibSp  \\\n",
       "0                            Braund, Mr. Owen Harris    male  22.0      1   \n",
       "1  Cumings, Mrs. John Bradley (Florence Briggs Th...  female  38.0      1   \n",
       "2                             Heikkinen, Miss. Laina  female  26.0      0   \n",
       "3       Futrelle, Mrs. Jacques Heath (Lily May Peel)  female  35.0      1   \n",
       "4                           Allen, Mr. William Henry    male  35.0      0   \n",
       "\n",
       "   Parch            Ticket     Fare Cabin Embarked  \n",
       "0      0         A/5 21171   7.2500   NaN        S  \n",
       "1      0          PC 17599  71.2833   C85        C  \n",
       "2      0  STON/O2. 3101282   7.9250   NaN        S  \n",
       "3      0            113803  53.1000  C123        S  \n",
       "4      0            373450   8.0500   NaN        S  "
      ]
     },
     "execution_count": 4,
     "metadata": {},
     "output_type": "execute_result"
    }
   ],
   "source": [
    "titanic_df.head()"
   ]
  },
  {
   "cell_type": "code",
   "execution_count": 5,
   "metadata": {
    "colab": {
     "base_uri": "https://localhost:8080/",
     "height": 268
    },
    "executionInfo": {
     "elapsed": 73,
     "status": "ok",
     "timestamp": 1645468317504,
     "user": {
      "displayName": "Erik Carcelen",
      "photoUrl": "https://lh3.googleusercontent.com/a/default-user=s64",
      "userId": "05805179184931102102"
     },
     "user_tz": 300
    },
    "id": "i_pH2Hq-tzu-",
    "outputId": "fe304522-ccf4-4e10-dcdd-863cc22bfe98"
   },
   "outputs": [
    {
     "data": {
      "text/html": [
       "<div>\n",
       "<style scoped>\n",
       "    .dataframe tbody tr th:only-of-type {\n",
       "        vertical-align: middle;\n",
       "    }\n",
       "\n",
       "    .dataframe tbody tr th {\n",
       "        vertical-align: top;\n",
       "    }\n",
       "\n",
       "    .dataframe thead th {\n",
       "        text-align: right;\n",
       "    }\n",
       "</style>\n",
       "<table border=\"1\" class=\"dataframe\">\n",
       "  <thead>\n",
       "    <tr style=\"text-align: right;\">\n",
       "      <th></th>\n",
       "      <th>PassengerId</th>\n",
       "      <th>Pclass</th>\n",
       "      <th>Name</th>\n",
       "      <th>Sex</th>\n",
       "      <th>Age</th>\n",
       "      <th>SibSp</th>\n",
       "      <th>Parch</th>\n",
       "      <th>Ticket</th>\n",
       "      <th>Fare</th>\n",
       "      <th>Cabin</th>\n",
       "      <th>Embarked</th>\n",
       "    </tr>\n",
       "  </thead>\n",
       "  <tbody>\n",
       "    <tr>\n",
       "      <th>0</th>\n",
       "      <td>892</td>\n",
       "      <td>3</td>\n",
       "      <td>Kelly, Mr. James</td>\n",
       "      <td>male</td>\n",
       "      <td>34.5</td>\n",
       "      <td>0</td>\n",
       "      <td>0</td>\n",
       "      <td>330911</td>\n",
       "      <td>7.8292</td>\n",
       "      <td>NaN</td>\n",
       "      <td>Q</td>\n",
       "    </tr>\n",
       "    <tr>\n",
       "      <th>1</th>\n",
       "      <td>893</td>\n",
       "      <td>3</td>\n",
       "      <td>Wilkes, Mrs. James (Ellen Needs)</td>\n",
       "      <td>female</td>\n",
       "      <td>47.0</td>\n",
       "      <td>1</td>\n",
       "      <td>0</td>\n",
       "      <td>363272</td>\n",
       "      <td>7.0000</td>\n",
       "      <td>NaN</td>\n",
       "      <td>S</td>\n",
       "    </tr>\n",
       "    <tr>\n",
       "      <th>2</th>\n",
       "      <td>894</td>\n",
       "      <td>2</td>\n",
       "      <td>Myles, Mr. Thomas Francis</td>\n",
       "      <td>male</td>\n",
       "      <td>62.0</td>\n",
       "      <td>0</td>\n",
       "      <td>0</td>\n",
       "      <td>240276</td>\n",
       "      <td>9.6875</td>\n",
       "      <td>NaN</td>\n",
       "      <td>Q</td>\n",
       "    </tr>\n",
       "    <tr>\n",
       "      <th>3</th>\n",
       "      <td>895</td>\n",
       "      <td>3</td>\n",
       "      <td>Wirz, Mr. Albert</td>\n",
       "      <td>male</td>\n",
       "      <td>27.0</td>\n",
       "      <td>0</td>\n",
       "      <td>0</td>\n",
       "      <td>315154</td>\n",
       "      <td>8.6625</td>\n",
       "      <td>NaN</td>\n",
       "      <td>S</td>\n",
       "    </tr>\n",
       "    <tr>\n",
       "      <th>4</th>\n",
       "      <td>896</td>\n",
       "      <td>3</td>\n",
       "      <td>Hirvonen, Mrs. Alexander (Helga E Lindqvist)</td>\n",
       "      <td>female</td>\n",
       "      <td>22.0</td>\n",
       "      <td>1</td>\n",
       "      <td>1</td>\n",
       "      <td>3101298</td>\n",
       "      <td>12.2875</td>\n",
       "      <td>NaN</td>\n",
       "      <td>S</td>\n",
       "    </tr>\n",
       "  </tbody>\n",
       "</table>\n",
       "</div>"
      ],
      "text/plain": [
       "   PassengerId  Pclass                                          Name     Sex  \\\n",
       "0          892       3                              Kelly, Mr. James    male   \n",
       "1          893       3              Wilkes, Mrs. James (Ellen Needs)  female   \n",
       "2          894       2                     Myles, Mr. Thomas Francis    male   \n",
       "3          895       3                              Wirz, Mr. Albert    male   \n",
       "4          896       3  Hirvonen, Mrs. Alexander (Helga E Lindqvist)  female   \n",
       "\n",
       "    Age  SibSp  Parch   Ticket     Fare Cabin Embarked  \n",
       "0  34.5      0      0   330911   7.8292   NaN        Q  \n",
       "1  47.0      1      0   363272   7.0000   NaN        S  \n",
       "2  62.0      0      0   240276   9.6875   NaN        Q  \n",
       "3  27.0      0      0   315154   8.6625   NaN        S  \n",
       "4  22.0      1      1  3101298  12.2875   NaN        S  "
      ]
     },
     "execution_count": 5,
     "metadata": {},
     "output_type": "execute_result"
    }
   ],
   "source": [
    "test_df.head()"
   ]
  },
  {
   "cell_type": "code",
   "execution_count": 6,
   "metadata": {
    "colab": {
     "base_uri": "https://localhost:8080/"
    },
    "executionInfo": {
     "elapsed": 71,
     "status": "ok",
     "timestamp": 1645468317509,
     "user": {
      "displayName": "Erik Carcelen",
      "photoUrl": "https://lh3.googleusercontent.com/a/default-user=s64",
      "userId": "05805179184931102102"
     },
     "user_tz": 300
    },
    "id": "oePm2KVmD5A3",
    "outputId": "2267ef37-c0a3-4631-bab3-678122c6c234"
   },
   "outputs": [
    {
     "name": "stdout",
     "output_type": "stream",
     "text": [
      "<class 'pandas.core.frame.DataFrame'>\n",
      "RangeIndex: 891 entries, 0 to 890\n",
      "Data columns (total 12 columns):\n",
      " #   Column       Non-Null Count  Dtype  \n",
      "---  ------       --------------  -----  \n",
      " 0   PassengerId  891 non-null    int64  \n",
      " 1   Survived     891 non-null    int64  \n",
      " 2   Pclass       891 non-null    int64  \n",
      " 3   Name         891 non-null    object \n",
      " 4   Sex          891 non-null    object \n",
      " 5   Age          714 non-null    float64\n",
      " 6   SibSp        891 non-null    int64  \n",
      " 7   Parch        891 non-null    int64  \n",
      " 8   Ticket       891 non-null    object \n",
      " 9   Fare         891 non-null    float64\n",
      " 10  Cabin        204 non-null    object \n",
      " 11  Embarked     889 non-null    object \n",
      "dtypes: float64(2), int64(5), object(5)\n",
      "memory usage: 83.7+ KB\n"
     ]
    }
   ],
   "source": [
    "# exploring data, statistical details, info, etc\n",
    "titanic_df.info()"
   ]
  },
  {
   "cell_type": "code",
   "execution_count": 7,
   "metadata": {
    "colab": {
     "base_uri": "https://localhost:8080/",
     "height": 269
    },
    "executionInfo": {
     "elapsed": 59,
     "status": "ok",
     "timestamp": 1645468317511,
     "user": {
      "displayName": "Erik Carcelen",
      "photoUrl": "https://lh3.googleusercontent.com/a/default-user=s64",
      "userId": "05805179184931102102"
     },
     "user_tz": 300
    },
    "id": "4ZZg0KkeD5A6",
    "outputId": "99b4f627-84f1-4718-db7e-4b87590f4243"
   },
   "outputs": [
    {
     "data": {
      "text/html": [
       "<div>\n",
       "<style scoped>\n",
       "    .dataframe tbody tr th:only-of-type {\n",
       "        vertical-align: middle;\n",
       "    }\n",
       "\n",
       "    .dataframe tbody tr th {\n",
       "        vertical-align: top;\n",
       "    }\n",
       "\n",
       "    .dataframe thead th {\n",
       "        text-align: right;\n",
       "    }\n",
       "</style>\n",
       "<table border=\"1\" class=\"dataframe\">\n",
       "  <thead>\n",
       "    <tr style=\"text-align: right;\">\n",
       "      <th></th>\n",
       "      <th>count</th>\n",
       "      <th>mean</th>\n",
       "      <th>std</th>\n",
       "      <th>min</th>\n",
       "      <th>25%</th>\n",
       "      <th>50%</th>\n",
       "      <th>75%</th>\n",
       "      <th>max</th>\n",
       "    </tr>\n",
       "  </thead>\n",
       "  <tbody>\n",
       "    <tr>\n",
       "      <th>PassengerId</th>\n",
       "      <td>891.0</td>\n",
       "      <td>446.000000</td>\n",
       "      <td>257.353842</td>\n",
       "      <td>1.00</td>\n",
       "      <td>223.5000</td>\n",
       "      <td>446.0000</td>\n",
       "      <td>668.5</td>\n",
       "      <td>891.0000</td>\n",
       "    </tr>\n",
       "    <tr>\n",
       "      <th>Survived</th>\n",
       "      <td>891.0</td>\n",
       "      <td>0.383838</td>\n",
       "      <td>0.486592</td>\n",
       "      <td>0.00</td>\n",
       "      <td>0.0000</td>\n",
       "      <td>0.0000</td>\n",
       "      <td>1.0</td>\n",
       "      <td>1.0000</td>\n",
       "    </tr>\n",
       "    <tr>\n",
       "      <th>Pclass</th>\n",
       "      <td>891.0</td>\n",
       "      <td>2.308642</td>\n",
       "      <td>0.836071</td>\n",
       "      <td>1.00</td>\n",
       "      <td>2.0000</td>\n",
       "      <td>3.0000</td>\n",
       "      <td>3.0</td>\n",
       "      <td>3.0000</td>\n",
       "    </tr>\n",
       "    <tr>\n",
       "      <th>Age</th>\n",
       "      <td>714.0</td>\n",
       "      <td>29.699118</td>\n",
       "      <td>14.526497</td>\n",
       "      <td>0.42</td>\n",
       "      <td>20.1250</td>\n",
       "      <td>28.0000</td>\n",
       "      <td>38.0</td>\n",
       "      <td>80.0000</td>\n",
       "    </tr>\n",
       "    <tr>\n",
       "      <th>SibSp</th>\n",
       "      <td>891.0</td>\n",
       "      <td>0.523008</td>\n",
       "      <td>1.102743</td>\n",
       "      <td>0.00</td>\n",
       "      <td>0.0000</td>\n",
       "      <td>0.0000</td>\n",
       "      <td>1.0</td>\n",
       "      <td>8.0000</td>\n",
       "    </tr>\n",
       "    <tr>\n",
       "      <th>Parch</th>\n",
       "      <td>891.0</td>\n",
       "      <td>0.381594</td>\n",
       "      <td>0.806057</td>\n",
       "      <td>0.00</td>\n",
       "      <td>0.0000</td>\n",
       "      <td>0.0000</td>\n",
       "      <td>0.0</td>\n",
       "      <td>6.0000</td>\n",
       "    </tr>\n",
       "    <tr>\n",
       "      <th>Fare</th>\n",
       "      <td>891.0</td>\n",
       "      <td>32.204208</td>\n",
       "      <td>49.693429</td>\n",
       "      <td>0.00</td>\n",
       "      <td>7.9104</td>\n",
       "      <td>14.4542</td>\n",
       "      <td>31.0</td>\n",
       "      <td>512.3292</td>\n",
       "    </tr>\n",
       "  </tbody>\n",
       "</table>\n",
       "</div>"
      ],
      "text/plain": [
       "             count        mean         std   min       25%       50%    75%  \\\n",
       "PassengerId  891.0  446.000000  257.353842  1.00  223.5000  446.0000  668.5   \n",
       "Survived     891.0    0.383838    0.486592  0.00    0.0000    0.0000    1.0   \n",
       "Pclass       891.0    2.308642    0.836071  1.00    2.0000    3.0000    3.0   \n",
       "Age          714.0   29.699118   14.526497  0.42   20.1250   28.0000   38.0   \n",
       "SibSp        891.0    0.523008    1.102743  0.00    0.0000    0.0000    1.0   \n",
       "Parch        891.0    0.381594    0.806057  0.00    0.0000    0.0000    0.0   \n",
       "Fare         891.0   32.204208   49.693429  0.00    7.9104   14.4542   31.0   \n",
       "\n",
       "                  max  \n",
       "PassengerId  891.0000  \n",
       "Survived       1.0000  \n",
       "Pclass         3.0000  \n",
       "Age           80.0000  \n",
       "SibSp          8.0000  \n",
       "Parch          6.0000  \n",
       "Fare         512.3292  "
      ]
     },
     "execution_count": 7,
     "metadata": {},
     "output_type": "execute_result"
    }
   ],
   "source": [
    "titanic_df.describe().transpose()"
   ]
  },
  {
   "cell_type": "code",
   "execution_count": 8,
   "metadata": {
    "colab": {
     "base_uri": "https://localhost:8080/"
    },
    "executionInfo": {
     "elapsed": 58,
     "status": "ok",
     "timestamp": 1645468317514,
     "user": {
      "displayName": "Erik Carcelen",
      "photoUrl": "https://lh3.googleusercontent.com/a/default-user=s64",
      "userId": "05805179184931102102"
     },
     "user_tz": 300
    },
    "id": "hd2aqczxD5A7",
    "outputId": "8bb74ffe-c5eb-4308-852b-beac3c77510a"
   },
   "outputs": [
    {
     "data": {
      "text/plain": [
       "(891, 12)"
      ]
     },
     "execution_count": 8,
     "metadata": {},
     "output_type": "execute_result"
    }
   ],
   "source": [
    "titanic_df.shape"
   ]
  },
  {
   "cell_type": "code",
   "execution_count": 9,
   "metadata": {
    "colab": {
     "base_uri": "https://localhost:8080/"
    },
    "executionInfo": {
     "elapsed": 50,
     "status": "ok",
     "timestamp": 1645468317517,
     "user": {
      "displayName": "Erik Carcelen",
      "photoUrl": "https://lh3.googleusercontent.com/a/default-user=s64",
      "userId": "05805179184931102102"
     },
     "user_tz": 300
    },
    "id": "yrYpc4xbD5BA",
    "outputId": "efe345a3-1a44-4a68-f2dc-c889298db444"
   },
   "outputs": [
    {
     "data": {
      "text/plain": [
       "PassengerId      0\n",
       "Survived         0\n",
       "Pclass           0\n",
       "Name             0\n",
       "Sex              0\n",
       "Age            177\n",
       "SibSp            0\n",
       "Parch            0\n",
       "Ticket           0\n",
       "Fare             0\n",
       "Cabin          687\n",
       "Embarked         2\n",
       "dtype: int64"
      ]
     },
     "execution_count": 9,
     "metadata": {},
     "output_type": "execute_result"
    }
   ],
   "source": [
    "# verifying if exists missing data\n",
    "titanic_df.isna().sum()"
   ]
  },
  {
   "cell_type": "code",
   "execution_count": 10,
   "metadata": {
    "colab": {
     "base_uri": "https://localhost:8080/"
    },
    "executionInfo": {
     "elapsed": 98,
     "status": "ok",
     "timestamp": 1645468317881,
     "user": {
      "displayName": "Erik Carcelen",
      "photoUrl": "https://lh3.googleusercontent.com/a/default-user=s64",
      "userId": "05805179184931102102"
     },
     "user_tz": 300
    },
    "id": "Wv0LndbDD5BB",
    "outputId": "f0676cd9-4f39-4cce-cb0b-aa236e7c95a5"
   },
   "outputs": [
    {
     "data": {
      "text/plain": [
       "PassengerId     0.000000\n",
       "Survived        0.000000\n",
       "Pclass          0.000000\n",
       "Name            0.000000\n",
       "Sex             0.000000\n",
       "Age            19.865320\n",
       "SibSp           0.000000\n",
       "Parch           0.000000\n",
       "Ticket          0.000000\n",
       "Fare            0.000000\n",
       "Cabin          77.104377\n",
       "Embarked        0.224467\n",
       "dtype: float64"
      ]
     },
     "execution_count": 10,
     "metadata": {},
     "output_type": "execute_result"
    }
   ],
   "source": [
    "# percentage of missing data\n",
    "titanic_df.isna().sum() / len(titanic_df) * 100"
   ]
  },
  {
   "cell_type": "code",
   "execution_count": 11,
   "metadata": {
    "colab": {
     "base_uri": "https://localhost:8080/"
    },
    "executionInfo": {
     "elapsed": 98,
     "status": "ok",
     "timestamp": 1645468317886,
     "user": {
      "displayName": "Erik Carcelen",
      "photoUrl": "https://lh3.googleusercontent.com/a/default-user=s64",
      "userId": "05805179184931102102"
     },
     "user_tz": 300
    },
    "id": "Qz4shMhjt-Bh",
    "outputId": "2f5321ae-f735-4a07-d246-9e217a3734d3"
   },
   "outputs": [
    {
     "data": {
      "text/plain": [
       "PassengerId     0.000000\n",
       "Pclass          0.000000\n",
       "Name            0.000000\n",
       "Sex             0.000000\n",
       "Age            20.574163\n",
       "SibSp           0.000000\n",
       "Parch           0.000000\n",
       "Ticket          0.000000\n",
       "Fare            0.239234\n",
       "Cabin          78.229665\n",
       "Embarked        0.000000\n",
       "dtype: float64"
      ]
     },
     "execution_count": 11,
     "metadata": {},
     "output_type": "execute_result"
    }
   ],
   "source": [
    "test_df.isna().sum() / len(test_df) * 100"
   ]
  },
  {
   "cell_type": "markdown",
   "metadata": {
    "id": "Oq7kiX40D5BD"
   },
   "source": [
    "We can see that Cabin feature have many missing data, I think the best for this case it is droping the column, Age has a 19% of missing the data, this feature is important for the analyisi, so we can fill the missing data with the mean of the Age feature, Embarked have two missing values and also is import for the analysis, so we can find the mode and replace the missing data by the mode of embarked"
   ]
  },
  {
   "cell_type": "markdown",
   "metadata": {
    "id": "r8Puya2BD5BE"
   },
   "source": [
    "### Preprocessing Data"
   ]
  },
  {
   "cell_type": "code",
   "execution_count": 12,
   "metadata": {
    "executionInfo": {
     "elapsed": 90,
     "status": "ok",
     "timestamp": 1645468317888,
     "user": {
      "displayName": "Erik Carcelen",
      "photoUrl": "https://lh3.googleusercontent.com/a/default-user=s64",
      "userId": "05805179184931102102"
     },
     "user_tz": 300
    },
    "id": "nYsvq4IFD5BF"
   },
   "outputs": [],
   "source": [
    "# I will change the sex column, I will replace male and female by 1 and 0\n",
    "titanic_df.Sex.replace({'male': 1, 'female': 0}, inplace=True)\n",
    "test_df.Sex.replace({'male': 1, 'female': 0}, inplace=True)"
   ]
  },
  {
   "cell_type": "code",
   "execution_count": 13,
   "metadata": {
    "executionInfo": {
     "elapsed": 91,
     "status": "ok",
     "timestamp": 1645468317891,
     "user": {
      "displayName": "Erik Carcelen",
      "photoUrl": "https://lh3.googleusercontent.com/a/default-user=s64",
      "userId": "05805179184931102102"
     },
     "user_tz": 300
    },
    "id": "EagFbdfyD5BG"
   },
   "outputs": [],
   "source": [
    "# Replace Age feature missing data with the mean of Age\n",
    "titanic_df.Age = titanic_df.Age.fillna( titanic_df.Age.mean() )\n",
    "test_df.Age = test_df.Age.fillna( test_df.Age.mean() )"
   ]
  },
  {
   "cell_type": "code",
   "execution_count": 14,
   "metadata": {
    "executionInfo": {
     "elapsed": 90,
     "status": "ok",
     "timestamp": 1645468317892,
     "user": {
      "displayName": "Erik Carcelen",
      "photoUrl": "https://lh3.googleusercontent.com/a/default-user=s64",
      "userId": "05805179184931102102"
     },
     "user_tz": 300
    },
    "id": "g5J6nPqUD5BH"
   },
   "outputs": [],
   "source": [
    "# Change the data type of Age feature from float 64 to int64\n",
    "titanic_df.Age = titanic_df.Age.astype(np.int64)\n",
    "test_df.Age = test_df.Age.astype(np.int64)"
   ]
  },
  {
   "cell_type": "code",
   "execution_count": 15,
   "metadata": {
    "executionInfo": {
     "elapsed": 90,
     "status": "ok",
     "timestamp": 1645468317894,
     "user": {
      "displayName": "Erik Carcelen",
      "photoUrl": "https://lh3.googleusercontent.com/a/default-user=s64",
      "userId": "05805179184931102102"
     },
     "user_tz": 300
    },
    "id": "ljStcUF-D5BI"
   },
   "outputs": [],
   "source": [
    "# drop Cabin feature\n",
    "titanic_df = titanic_df.drop('Cabin', axis=1)\n",
    "test_df = test_df.drop('Cabin', axis=1)"
   ]
  },
  {
   "cell_type": "code",
   "execution_count": 16,
   "metadata": {
    "colab": {
     "base_uri": "https://localhost:8080/"
    },
    "executionInfo": {
     "elapsed": 92,
     "status": "ok",
     "timestamp": 1645468317897,
     "user": {
      "displayName": "Erik Carcelen",
      "photoUrl": "https://lh3.googleusercontent.com/a/default-user=s64",
      "userId": "05805179184931102102"
     },
     "user_tz": 300
    },
    "id": "h7WQjqCtD5BJ",
    "outputId": "f5052012-f675-454c-c940-d67cefd1e487"
   },
   "outputs": [
    {
     "data": {
      "text/plain": [
       "0    S\n",
       "Name: Embarked, dtype: object"
      ]
     },
     "execution_count": 16,
     "metadata": {},
     "output_type": "execute_result"
    }
   ],
   "source": [
    "# embarked feature cleaning\n",
    "titanic_df.Embarked.mode()"
   ]
  },
  {
   "cell_type": "code",
   "execution_count": 17,
   "metadata": {
    "colab": {
     "base_uri": "https://localhost:8080/"
    },
    "executionInfo": {
     "elapsed": 87,
     "status": "ok",
     "timestamp": 1645468317901,
     "user": {
      "displayName": "Erik Carcelen",
      "photoUrl": "https://lh3.googleusercontent.com/a/default-user=s64",
      "userId": "05805179184931102102"
     },
     "user_tz": 300
    },
    "id": "ltu1k2Ptu4sJ",
    "outputId": "017d6f69-848c-4be7-fe72-3233b2bc23a0"
   },
   "outputs": [
    {
     "data": {
      "text/plain": [
       "0    S\n",
       "Name: Embarked, dtype: object"
      ]
     },
     "execution_count": 17,
     "metadata": {},
     "output_type": "execute_result"
    }
   ],
   "source": [
    "test_df.Embarked.mode()"
   ]
  },
  {
   "cell_type": "code",
   "execution_count": 18,
   "metadata": {
    "executionInfo": {
     "elapsed": 81,
     "status": "ok",
     "timestamp": 1645468317903,
     "user": {
      "displayName": "Erik Carcelen",
      "photoUrl": "https://lh3.googleusercontent.com/a/default-user=s64",
      "userId": "05805179184931102102"
     },
     "user_tz": 300
    },
    "id": "e4iHWbt9D5BK"
   },
   "outputs": [],
   "source": [
    "titanic_df.Embarked = titanic_df.Embarked.fillna('S')\n",
    "test_df.Embarked = test_df.Embarked.fillna('S')"
   ]
  },
  {
   "cell_type": "code",
   "execution_count": 19,
   "metadata": {
    "executionInfo": {
     "elapsed": 81,
     "status": "ok",
     "timestamp": 1645468317905,
     "user": {
      "displayName": "Erik Carcelen",
      "photoUrl": "https://lh3.googleusercontent.com/a/default-user=s64",
      "userId": "05805179184931102102"
     },
     "user_tz": 300
    },
    "id": "fdwaA7yyD5BL"
   },
   "outputs": [],
   "source": [
    "# Change data in Embarked feature\n",
    "# 1 = S\n",
    "# 2 = C\n",
    "# 3 = Q\n",
    "\n",
    "titanic_df.Embarked.replace({'S': 1, 'C': 2, 'Q': 3}, inplace=True)\n",
    "test_df.Embarked.replace({'S': 1, 'C': 2, 'Q': 3}, inplace=True)"
   ]
  },
  {
   "cell_type": "code",
   "execution_count": 20,
   "metadata": {
    "executionInfo": {
     "elapsed": 81,
     "status": "ok",
     "timestamp": 1645468317907,
     "user": {
      "displayName": "Erik Carcelen",
      "photoUrl": "https://lh3.googleusercontent.com/a/default-user=s64",
      "userId": "05805179184931102102"
     },
     "user_tz": 300
    },
    "id": "fNJlajzyvRoy"
   },
   "outputs": [],
   "source": [
    "## fill missing data in Fare feature of test dataset with the mean of Fare\n",
    "test_df.Fare = test_df.Fare.fillna( test_df.Fare.mean() )"
   ]
  },
  {
   "cell_type": "code",
   "execution_count": 21,
   "metadata": {
    "executionInfo": {
     "elapsed": 80,
     "status": "ok",
     "timestamp": 1645468317908,
     "user": {
      "displayName": "Erik Carcelen",
      "photoUrl": "https://lh3.googleusercontent.com/a/default-user=s64",
      "userId": "05805179184931102102"
     },
     "user_tz": 300
    },
    "id": "qc-ElhfaNrGp"
   },
   "outputs": [],
   "source": [
    "# Change data type of Fare feature\n",
    "titanic_df.Fare = titanic_df.Fare.astype(np.int64)\n",
    "test_df.Fare = test_df.Fare.astype(np.int64)"
   ]
  },
  {
   "cell_type": "code",
   "execution_count": 22,
   "metadata": {
    "colab": {
     "base_uri": "https://localhost:8080/"
    },
    "executionInfo": {
     "elapsed": 79,
     "status": "ok",
     "timestamp": 1645468317910,
     "user": {
      "displayName": "Erik Carcelen",
      "photoUrl": "https://lh3.googleusercontent.com/a/default-user=s64",
      "userId": "05805179184931102102"
     },
     "user_tz": 300
    },
    "id": "Nc779T8VD5BM",
    "outputId": "884724bf-bcbf-4ceb-ffc7-295980d536a2"
   },
   "outputs": [
    {
     "name": "stdout",
     "output_type": "stream",
     "text": [
      "<class 'pandas.core.frame.DataFrame'>\n",
      "RangeIndex: 891 entries, 0 to 890\n",
      "Data columns (total 11 columns):\n",
      " #   Column       Non-Null Count  Dtype \n",
      "---  ------       --------------  ----- \n",
      " 0   PassengerId  891 non-null    int64 \n",
      " 1   Survived     891 non-null    int64 \n",
      " 2   Pclass       891 non-null    int64 \n",
      " 3   Name         891 non-null    object\n",
      " 4   Sex          891 non-null    int64 \n",
      " 5   Age          891 non-null    int64 \n",
      " 6   SibSp        891 non-null    int64 \n",
      " 7   Parch        891 non-null    int64 \n",
      " 8   Ticket       891 non-null    object\n",
      " 9   Fare         891 non-null    int64 \n",
      " 10  Embarked     891 non-null    int64 \n",
      "dtypes: int64(9), object(2)\n",
      "memory usage: 76.7+ KB\n"
     ]
    }
   ],
   "source": [
    "titanic_df.info()"
   ]
  },
  {
   "cell_type": "code",
   "execution_count": 23,
   "metadata": {
    "colab": {
     "base_uri": "https://localhost:8080/"
    },
    "executionInfo": {
     "elapsed": 68,
     "status": "ok",
     "timestamp": 1645468317913,
     "user": {
      "displayName": "Erik Carcelen",
      "photoUrl": "https://lh3.googleusercontent.com/a/default-user=s64",
      "userId": "05805179184931102102"
     },
     "user_tz": 300
    },
    "id": "oVmhR2N6D5BS",
    "outputId": "4050a491-89d6-4105-dfe1-d2075f690a07"
   },
   "outputs": [
    {
     "data": {
      "text/plain": [
       "PassengerId    0\n",
       "Survived       0\n",
       "Pclass         0\n",
       "Name           0\n",
       "Sex            0\n",
       "Age            0\n",
       "SibSp          0\n",
       "Parch          0\n",
       "Ticket         0\n",
       "Fare           0\n",
       "Embarked       0\n",
       "dtype: int64"
      ]
     },
     "execution_count": 23,
     "metadata": {},
     "output_type": "execute_result"
    }
   ],
   "source": [
    "# verifying if the are missing data\n",
    "titanic_df.isna().sum()"
   ]
  },
  {
   "cell_type": "markdown",
   "metadata": {
    "id": "0TFPfq42D5BU"
   },
   "source": [
    "### **Exploratory Data Analysis and Visualization**"
   ]
  },
  {
   "cell_type": "code",
   "execution_count": 24,
   "metadata": {
    "colab": {
     "base_uri": "https://localhost:8080/",
     "height": 302
    },
    "executionInfo": {
     "elapsed": 64,
     "status": "ok",
     "timestamp": 1645468317915,
     "user": {
      "displayName": "Erik Carcelen",
      "photoUrl": "https://lh3.googleusercontent.com/a/default-user=s64",
      "userId": "05805179184931102102"
     },
     "user_tz": 300
    },
    "id": "3Jb-rM5LD5BV",
    "outputId": "fd623f1a-73b5-4321-bf89-ace5d9198351"
   },
   "outputs": [
    {
     "data": {
      "text/html": [
       "<div>\n",
       "<style scoped>\n",
       "    .dataframe tbody tr th:only-of-type {\n",
       "        vertical-align: middle;\n",
       "    }\n",
       "\n",
       "    .dataframe tbody tr th {\n",
       "        vertical-align: top;\n",
       "    }\n",
       "\n",
       "    .dataframe thead th {\n",
       "        text-align: right;\n",
       "    }\n",
       "</style>\n",
       "<table border=\"1\" class=\"dataframe\">\n",
       "  <thead>\n",
       "    <tr style=\"text-align: right;\">\n",
       "      <th></th>\n",
       "      <th>PassengerId</th>\n",
       "      <th>Survived</th>\n",
       "      <th>Pclass</th>\n",
       "      <th>Name</th>\n",
       "      <th>Sex</th>\n",
       "      <th>Age</th>\n",
       "      <th>SibSp</th>\n",
       "      <th>Parch</th>\n",
       "      <th>Ticket</th>\n",
       "      <th>Fare</th>\n",
       "      <th>Embarked</th>\n",
       "    </tr>\n",
       "  </thead>\n",
       "  <tbody>\n",
       "    <tr>\n",
       "      <th>0</th>\n",
       "      <td>1</td>\n",
       "      <td>0</td>\n",
       "      <td>3</td>\n",
       "      <td>Braund, Mr. Owen Harris</td>\n",
       "      <td>1</td>\n",
       "      <td>22</td>\n",
       "      <td>1</td>\n",
       "      <td>0</td>\n",
       "      <td>A/5 21171</td>\n",
       "      <td>7</td>\n",
       "      <td>1</td>\n",
       "    </tr>\n",
       "    <tr>\n",
       "      <th>1</th>\n",
       "      <td>2</td>\n",
       "      <td>1</td>\n",
       "      <td>1</td>\n",
       "      <td>Cumings, Mrs. John Bradley (Florence Briggs Th...</td>\n",
       "      <td>0</td>\n",
       "      <td>38</td>\n",
       "      <td>1</td>\n",
       "      <td>0</td>\n",
       "      <td>PC 17599</td>\n",
       "      <td>71</td>\n",
       "      <td>2</td>\n",
       "    </tr>\n",
       "    <tr>\n",
       "      <th>2</th>\n",
       "      <td>3</td>\n",
       "      <td>1</td>\n",
       "      <td>3</td>\n",
       "      <td>Heikkinen, Miss. Laina</td>\n",
       "      <td>0</td>\n",
       "      <td>26</td>\n",
       "      <td>0</td>\n",
       "      <td>0</td>\n",
       "      <td>STON/O2. 3101282</td>\n",
       "      <td>7</td>\n",
       "      <td>1</td>\n",
       "    </tr>\n",
       "    <tr>\n",
       "      <th>3</th>\n",
       "      <td>4</td>\n",
       "      <td>1</td>\n",
       "      <td>1</td>\n",
       "      <td>Futrelle, Mrs. Jacques Heath (Lily May Peel)</td>\n",
       "      <td>0</td>\n",
       "      <td>35</td>\n",
       "      <td>1</td>\n",
       "      <td>0</td>\n",
       "      <td>113803</td>\n",
       "      <td>53</td>\n",
       "      <td>1</td>\n",
       "    </tr>\n",
       "    <tr>\n",
       "      <th>4</th>\n",
       "      <td>5</td>\n",
       "      <td>0</td>\n",
       "      <td>3</td>\n",
       "      <td>Allen, Mr. William Henry</td>\n",
       "      <td>1</td>\n",
       "      <td>35</td>\n",
       "      <td>0</td>\n",
       "      <td>0</td>\n",
       "      <td>373450</td>\n",
       "      <td>8</td>\n",
       "      <td>1</td>\n",
       "    </tr>\n",
       "  </tbody>\n",
       "</table>\n",
       "</div>"
      ],
      "text/plain": [
       "   PassengerId  Survived  Pclass  \\\n",
       "0            1         0       3   \n",
       "1            2         1       1   \n",
       "2            3         1       3   \n",
       "3            4         1       1   \n",
       "4            5         0       3   \n",
       "\n",
       "                                                Name  Sex  Age  SibSp  Parch  \\\n",
       "0                            Braund, Mr. Owen Harris    1   22      1      0   \n",
       "1  Cumings, Mrs. John Bradley (Florence Briggs Th...    0   38      1      0   \n",
       "2                             Heikkinen, Miss. Laina    0   26      0      0   \n",
       "3       Futrelle, Mrs. Jacques Heath (Lily May Peel)    0   35      1      0   \n",
       "4                           Allen, Mr. William Henry    1   35      0      0   \n",
       "\n",
       "             Ticket  Fare  Embarked  \n",
       "0         A/5 21171     7         1  \n",
       "1          PC 17599    71         2  \n",
       "2  STON/O2. 3101282     7         1  \n",
       "3            113803    53         1  \n",
       "4            373450     8         1  "
      ]
     },
     "execution_count": 24,
     "metadata": {},
     "output_type": "execute_result"
    }
   ],
   "source": [
    "titanic_df.head()"
   ]
  },
  {
   "cell_type": "markdown",
   "metadata": {
    "id": "Ke-mA3tvD5BW"
   },
   "source": [
    "**Number of survivors and non survivors**"
   ]
  },
  {
   "cell_type": "code",
   "execution_count": 25,
   "metadata": {
    "colab": {
     "base_uri": "https://localhost:8080/",
     "height": 550
    },
    "executionInfo": {
     "elapsed": 455,
     "status": "ok",
     "timestamp": 1645468318309,
     "user": {
      "displayName": "Erik Carcelen",
      "photoUrl": "https://lh3.googleusercontent.com/a/default-user=s64",
      "userId": "05805179184931102102"
     },
     "user_tz": 300
    },
    "id": "RMuklG9mD5BX",
    "outputId": "b9f7aee7-3093-4c0a-c794-b3ac5989eb99"
   },
   "outputs": [
    {
     "data": {
      "text/plain": [
       "<AxesSubplot:xlabel='Survived', ylabel='count'>"
      ]
     },
     "execution_count": 25,
     "metadata": {},
     "output_type": "execute_result"
    },
    {
     "data": {
      "image/png": "[encoded data removed]",
      "text/plain": [
       "<Figure size 1000x600 with 1 Axes>"
      ]
     },
     "metadata": {
      "needs_background": "light"
     },
     "output_type": "display_data"
    }
   ],
   "source": [
    "plt.figure(figsize=(10, 6), dpi=100)\n",
    "sns.countplot( data=titanic_df, x='Survived' )"
   ]
  },
  {
   "cell_type": "markdown",
   "metadata": {
    "id": "zbulXjagD5BY"
   },
   "source": [
    "The majority of passengers on board in this dataset died"
   ]
  },
  {
   "cell_type": "markdown",
   "metadata": {
    "id": "y9txjYslD5BZ"
   },
   "source": [
    "###### **Number of passengers by sex**"
   ]
  },
  {
   "cell_type": "code",
   "execution_count": 26,
   "metadata": {
    "colab": {
     "base_uri": "https://localhost:8080/"
    },
    "executionInfo": {
     "elapsed": 63,
     "status": "ok",
     "timestamp": 1645468318311,
     "user": {
      "displayName": "Erik Carcelen",
      "photoUrl": "https://lh3.googleusercontent.com/a/default-user=s64",
      "userId": "05805179184931102102"
     },
     "user_tz": 300
    },
    "id": "aIxs2rTLD5BZ",
    "outputId": "8873303e-7323-47d0-bc48-5dbf62d5563d"
   },
   "outputs": [
    {
     "data": {
      "text/plain": [
       "1    577\n",
       "0    314\n",
       "Name: Sex, dtype: int64"
      ]
     },
     "execution_count": 26,
     "metadata": {},
     "output_type": "execute_result"
    }
   ],
   "source": [
    "# 1 = Male\n",
    "# 0 = Female\n",
    "titanic_df.Sex.value_counts()"
   ]
  },
  {
   "cell_type": "markdown",
   "metadata": {
    "id": "6sy5vKhhD5Ba"
   },
   "source": [
    "We have **577** Male passengers and **314** Female passenger"
   ]
  },
  {
   "cell_type": "code",
   "execution_count": 27,
   "metadata": {
    "colab": {
     "base_uri": "https://localhost:8080/",
     "height": 312
    },
    "executionInfo": {
     "elapsed": 60,
     "status": "ok",
     "timestamp": 1645468318314,
     "user": {
      "displayName": "Erik Carcelen",
      "photoUrl": "https://lh3.googleusercontent.com/a/default-user=s64",
      "userId": "05805179184931102102"
     },
     "user_tz": 300
    },
    "id": "j8z-VSS8D5Bb",
    "outputId": "28a3fe6e-b1b4-48ee-a57c-17d69e9723c0"
   },
   "outputs": [
    {
     "data": {
      "text/plain": [
       "Text(0.5, 1.0, 'Number of passengers by sex')"
      ]
     },
     "execution_count": 27,
     "metadata": {},
     "output_type": "execute_result"
    },
    {
     "data": {
      "image/png": "[encoded data removed]",
      "text/plain": [
       "<Figure size 432x288 with 1 Axes>"
      ]
     },
     "metadata": {
      "needs_background": "light"
     },
     "output_type": "display_data"
    }
   ],
   "source": [
    "sns.countplot(data= titanic_df, x='Sex')\n",
    "plt.title('Number of passengers by sex')"
   ]
  },
  {
   "cell_type": "markdown",
   "metadata": {
    "id": "GJETjONwD5Bc"
   },
   "source": [
    "**Survivors by sex**"
   ]
  },
  {
   "cell_type": "code",
   "execution_count": 28,
   "metadata": {
    "executionInfo": {
     "elapsed": 56,
     "status": "ok",
     "timestamp": 1645468318317,
     "user": {
      "displayName": "Erik Carcelen",
      "photoUrl": "https://lh3.googleusercontent.com/a/default-user=s64",
      "userId": "05805179184931102102"
     },
     "user_tz": 300
    },
    "id": "h8XqqssWD5Bo"
   },
   "outputs": [],
   "source": [
    "male_survivors = titanic_df[ (titanic_df.Sex == 1) & (titanic_df.Survived == 1) ][['Survived']].value_counts().values\n",
    "\n",
    "female_survivors = titanic_df[ (titanic_df.Sex == 0) & (titanic_df.Survived == 1) ][['Survived']].value_counts().values"
   ]
  },
  {
   "cell_type": "code",
   "execution_count": 29,
   "metadata": {
    "colab": {
     "base_uri": "https://localhost:8080/"
    },
    "executionInfo": {
     "elapsed": 58,
     "status": "ok",
     "timestamp": 1645468318321,
     "user": {
      "displayName": "Erik Carcelen",
      "photoUrl": "https://lh3.googleusercontent.com/a/default-user=s64",
      "userId": "05805179184931102102"
     },
     "user_tz": 300
    },
    "id": "9ELIGA6-D5Bp",
    "outputId": "231b4816-aaf6-46c0-d13e-d4a7ca4c6547"
   },
   "outputs": [
    {
     "name": "stdout",
     "output_type": "stream",
     "text": [
      "# of Survivors By Sex\n",
      "Female: [233] | Male: [109]\n"
     ]
    }
   ],
   "source": [
    "print('# of Survivors By Sex')\n",
    "print(f'Female: {female_survivors} | Male: {male_survivors}')"
   ]
  },
  {
   "cell_type": "code",
   "execution_count": 30,
   "metadata": {
    "colab": {
     "base_uri": "https://localhost:8080/",
     "height": 143
    },
    "executionInfo": {
     "elapsed": 54,
     "status": "ok",
     "timestamp": 1645468318323,
     "user": {
      "displayName": "Erik Carcelen",
      "photoUrl": "https://lh3.googleusercontent.com/a/default-user=s64",
      "userId": "05805179184931102102"
     },
     "user_tz": 300
    },
    "id": "ZS3coRkAD5Bq",
    "outputId": "54ede65c-8c79-4f6f-e96d-398bd55251ae"
   },
   "outputs": [
    {
     "data": {
      "text/html": [
       "<div>\n",
       "<style scoped>\n",
       "    .dataframe tbody tr th:only-of-type {\n",
       "        vertical-align: middle;\n",
       "    }\n",
       "\n",
       "    .dataframe tbody tr th {\n",
       "        vertical-align: top;\n",
       "    }\n",
       "\n",
       "    .dataframe thead th {\n",
       "        text-align: right;\n",
       "    }\n",
       "</style>\n",
       "<table border=\"1\" class=\"dataframe\">\n",
       "  <thead>\n",
       "    <tr style=\"text-align: right;\">\n",
       "      <th></th>\n",
       "      <th>Survived</th>\n",
       "    </tr>\n",
       "    <tr>\n",
       "      <th>Sex</th>\n",
       "      <th></th>\n",
       "    </tr>\n",
       "  </thead>\n",
       "  <tbody>\n",
       "    <tr>\n",
       "      <th>0</th>\n",
       "      <td>0.742038</td>\n",
       "    </tr>\n",
       "    <tr>\n",
       "      <th>1</th>\n",
       "      <td>0.188908</td>\n",
       "    </tr>\n",
       "  </tbody>\n",
       "</table>\n",
       "</div>"
      ],
      "text/plain": [
       "     Survived\n",
       "Sex          \n",
       "0    0.742038\n",
       "1    0.188908"
      ]
     },
     "execution_count": 30,
     "metadata": {},
     "output_type": "execute_result"
    }
   ],
   "source": [
    "# number of survived passenger\n",
    "titanic_df.pivot_table('Survived', index='Sex')"
   ]
  },
  {
   "cell_type": "markdown",
   "metadata": {
    "id": "KjNJHz_3D5Br"
   },
   "source": [
    "Here we can see that in the case of female passengers 74.2% has survived while 18.89% of male passengers has survived"
   ]
  },
  {
   "cell_type": "code",
   "execution_count": 31,
   "metadata": {
    "colab": {
     "base_uri": "https://localhost:8080/",
     "height": 572
    },
    "executionInfo": {
     "elapsed": 430,
     "status": "ok",
     "timestamp": 1645468318702,
     "user": {
      "displayName": "Erik Carcelen",
      "photoUrl": "https://lh3.googleusercontent.com/a/default-user=s64",
      "userId": "05805179184931102102"
     },
     "user_tz": 300
    },
    "id": "500FcEjzD5Br",
    "outputId": "a190748c-b815-4ed8-bbec-ed4cece3c9cf"
   },
   "outputs": [
    {
     "data": {
      "text/plain": [
       "<matplotlib.legend.Legend at 0x7fa778a64430>"
      ]
     },
     "execution_count": 31,
     "metadata": {},
     "output_type": "execute_result"
    },
    {
     "data": {
      "image/png": "[encoded data removed]",
      "text/plain": [
       "<Figure size 1000x600 with 1 Axes>"
      ]
     },
     "metadata": {
      "needs_background": "light"
     },
     "output_type": "display_data"
    }
   ],
   "source": [
    "# countplot\n",
    "plt.figure(figsize=(10, 6), dpi=100)\n",
    "sns.countplot(data=titanic_df, x='Survived', hue='Sex')\n",
    "plt.title('Survivors by Sex')\n",
    "plt.legend(['Female', 'Male'])"
   ]
  },
  {
   "cell_type": "markdown",
   "metadata": {
    "id": "gSUFxhNXD5Bs"
   },
   "source": [
    "In this case we can see that a high percentage of male passenger has died in the accident"
   ]
  },
  {
   "cell_type": "markdown",
   "metadata": {
    "id": "myXVyLHtD5Bt"
   },
   "source": [
    "##### **Count the number of passengers by class**"
   ]
  },
  {
   "cell_type": "code",
   "execution_count": 32,
   "metadata": {
    "colab": {
     "base_uri": "https://localhost:8080/"
    },
    "executionInfo": {
     "elapsed": 68,
     "status": "ok",
     "timestamp": 1645468318703,
     "user": {
      "displayName": "Erik Carcelen",
      "photoUrl": "https://lh3.googleusercontent.com/a/default-user=s64",
      "userId": "05805179184931102102"
     },
     "user_tz": 300
    },
    "id": "IjlQtyRdD5Bt",
    "outputId": "f8f66e87-5a7b-47cb-faac-30766229c4a6"
   },
   "outputs": [
    {
     "data": {
      "text/plain": [
       "3    491\n",
       "1    216\n",
       "2    184\n",
       "Name: Pclass, dtype: int64"
      ]
     },
     "execution_count": 32,
     "metadata": {},
     "output_type": "execute_result"
    }
   ],
   "source": [
    "# Count the number of passengers by class\n",
    "titanic_df.Pclass.value_counts()"
   ]
  },
  {
   "cell_type": "markdown",
   "metadata": {
    "id": "UV-22tiMD5Bu"
   },
   "source": [
    "##### **Total Passengers by class and sex**"
   ]
  },
  {
   "cell_type": "code",
   "execution_count": 33,
   "metadata": {
    "colab": {
     "base_uri": "https://localhost:8080/",
     "height": 143
    },
    "executionInfo": {
     "elapsed": 59,
     "status": "ok",
     "timestamp": 1645468318706,
     "user": {
      "displayName": "Erik Carcelen",
      "photoUrl": "https://lh3.googleusercontent.com/a/default-user=s64",
      "userId": "05805179184931102102"
     },
     "user_tz": 300
    },
    "id": "PHlXxz-yD5Bv",
    "outputId": "49f4fd3c-c277-4696-e5aa-cb08fd2fdc0d"
   },
   "outputs": [
    {
     "data": {
      "text/html": [
       "<div>\n",
       "<style scoped>\n",
       "    .dataframe tbody tr th:only-of-type {\n",
       "        vertical-align: middle;\n",
       "    }\n",
       "\n",
       "    .dataframe tbody tr th {\n",
       "        vertical-align: top;\n",
       "    }\n",
       "\n",
       "    .dataframe thead th {\n",
       "        text-align: right;\n",
       "    }\n",
       "</style>\n",
       "<table border=\"1\" class=\"dataframe\">\n",
       "  <thead>\n",
       "    <tr style=\"text-align: right;\">\n",
       "      <th>Pclass</th>\n",
       "      <th>1</th>\n",
       "      <th>2</th>\n",
       "      <th>3</th>\n",
       "    </tr>\n",
       "    <tr>\n",
       "      <th>Sex</th>\n",
       "      <th></th>\n",
       "      <th></th>\n",
       "      <th></th>\n",
       "    </tr>\n",
       "  </thead>\n",
       "  <tbody>\n",
       "    <tr>\n",
       "      <th>0</th>\n",
       "      <td>94</td>\n",
       "      <td>76</td>\n",
       "      <td>144</td>\n",
       "    </tr>\n",
       "    <tr>\n",
       "      <th>1</th>\n",
       "      <td>122</td>\n",
       "      <td>108</td>\n",
       "      <td>347</td>\n",
       "    </tr>\n",
       "  </tbody>\n",
       "</table>\n",
       "</div>"
      ],
      "text/plain": [
       "Pclass    1    2    3\n",
       "Sex                  \n",
       "0        94   76  144\n",
       "1       122  108  347"
      ]
     },
     "execution_count": 33,
     "metadata": {},
     "output_type": "execute_result"
    }
   ],
   "source": [
    "# pivot table\n",
    "titanic_df.pivot_table('Survived', index='Sex', columns=['Pclass'], aggfunc='count')"
   ]
  },
  {
   "cell_type": "markdown",
   "metadata": {
    "id": "UuDKetgiD5Bv"
   },
   "source": [
    "##### **Survivors by class and sex in percentage**"
   ]
  },
  {
   "cell_type": "code",
   "execution_count": 34,
   "metadata": {
    "colab": {
     "base_uri": "https://localhost:8080/",
     "height": 143
    },
    "executionInfo": {
     "elapsed": 56,
     "status": "ok",
     "timestamp": 1645468318708,
     "user": {
      "displayName": "Erik Carcelen",
      "photoUrl": "https://lh3.googleusercontent.com/a/default-user=s64",
      "userId": "05805179184931102102"
     },
     "user_tz": 300
    },
    "id": "NL_SKrMTD5Bw",
    "outputId": "0f0cf5fc-dfdf-4ea0-ca23-72cf08b62a1c"
   },
   "outputs": [
    {
     "data": {
      "text/html": [
       "<div>\n",
       "<style scoped>\n",
       "    .dataframe tbody tr th:only-of-type {\n",
       "        vertical-align: middle;\n",
       "    }\n",
       "\n",
       "    .dataframe tbody tr th {\n",
       "        vertical-align: top;\n",
       "    }\n",
       "\n",
       "    .dataframe thead th {\n",
       "        text-align: right;\n",
       "    }\n",
       "</style>\n",
       "<table border=\"1\" class=\"dataframe\">\n",
       "  <thead>\n",
       "    <tr style=\"text-align: right;\">\n",
       "      <th>Pclass</th>\n",
       "      <th>1</th>\n",
       "      <th>2</th>\n",
       "      <th>3</th>\n",
       "    </tr>\n",
       "    <tr>\n",
       "      <th>Sex</th>\n",
       "      <th></th>\n",
       "      <th></th>\n",
       "      <th></th>\n",
       "    </tr>\n",
       "  </thead>\n",
       "  <tbody>\n",
       "    <tr>\n",
       "      <th>0</th>\n",
       "      <td>0.968085</td>\n",
       "      <td>0.921053</td>\n",
       "      <td>0.500000</td>\n",
       "    </tr>\n",
       "    <tr>\n",
       "      <th>1</th>\n",
       "      <td>0.368852</td>\n",
       "      <td>0.157407</td>\n",
       "      <td>0.135447</td>\n",
       "    </tr>\n",
       "  </tbody>\n",
       "</table>\n",
       "</div>"
      ],
      "text/plain": [
       "Pclass         1         2         3\n",
       "Sex                                 \n",
       "0       0.968085  0.921053  0.500000\n",
       "1       0.368852  0.157407  0.135447"
      ]
     },
     "execution_count": 34,
     "metadata": {},
     "output_type": "execute_result"
    }
   ],
   "source": [
    "titanic_df.pivot_table('Survived', index='Sex', columns=['Pclass'])"
   ]
  },
  {
   "cell_type": "markdown",
   "metadata": {
    "id": "Ga-xchFQD5Bw"
   },
   "source": [
    "##### **Survivors by class and sex in numbers**"
   ]
  },
  {
   "cell_type": "code",
   "execution_count": 35,
   "metadata": {
    "colab": {
     "base_uri": "https://localhost:8080/",
     "height": 143
    },
    "executionInfo": {
     "elapsed": 53,
     "status": "ok",
     "timestamp": 1645468318710,
     "user": {
      "displayName": "Erik Carcelen",
      "photoUrl": "https://lh3.googleusercontent.com/a/default-user=s64",
      "userId": "05805179184931102102"
     },
     "user_tz": 300
    },
    "id": "CtpL1vzND5Bx",
    "outputId": "9b8f8faa-da29-47f1-9f82-3bf9b9e19eb5"
   },
   "outputs": [
    {
     "data": {
      "text/html": [
       "<div>\n",
       "<style scoped>\n",
       "    .dataframe tbody tr th:only-of-type {\n",
       "        vertical-align: middle;\n",
       "    }\n",
       "\n",
       "    .dataframe tbody tr th {\n",
       "        vertical-align: top;\n",
       "    }\n",
       "\n",
       "    .dataframe thead th {\n",
       "        text-align: right;\n",
       "    }\n",
       "</style>\n",
       "<table border=\"1\" class=\"dataframe\">\n",
       "  <thead>\n",
       "    <tr style=\"text-align: right;\">\n",
       "      <th>Pclass</th>\n",
       "      <th>1</th>\n",
       "      <th>2</th>\n",
       "      <th>3</th>\n",
       "    </tr>\n",
       "    <tr>\n",
       "      <th>Sex</th>\n",
       "      <th></th>\n",
       "      <th></th>\n",
       "      <th></th>\n",
       "    </tr>\n",
       "  </thead>\n",
       "  <tbody>\n",
       "    <tr>\n",
       "      <th>0</th>\n",
       "      <td>91</td>\n",
       "      <td>70</td>\n",
       "      <td>72</td>\n",
       "    </tr>\n",
       "    <tr>\n",
       "      <th>1</th>\n",
       "      <td>45</td>\n",
       "      <td>17</td>\n",
       "      <td>47</td>\n",
       "    </tr>\n",
       "  </tbody>\n",
       "</table>\n",
       "</div>"
      ],
      "text/plain": [
       "Pclass   1   2   3\n",
       "Sex               \n",
       "0       91  70  72\n",
       "1       45  17  47"
      ]
     },
     "execution_count": 35,
     "metadata": {},
     "output_type": "execute_result"
    }
   ],
   "source": [
    "titanic_df.pivot_table('Survived', index='Sex', columns=['Pclass'], aggfunc='sum')"
   ]
  },
  {
   "cell_type": "code",
   "execution_count": 36,
   "metadata": {
    "colab": {
     "base_uri": "https://localhost:8080/",
     "height": 572
    },
    "executionInfo": {
     "elapsed": 886,
     "status": "ok",
     "timestamp": 1645468319548,
     "user": {
      "displayName": "Erik Carcelen",
      "photoUrl": "https://lh3.googleusercontent.com/a/default-user=s64",
      "userId": "05805179184931102102"
     },
     "user_tz": 300
    },
    "id": "OdyvhQUQD5By",
    "outputId": "b2a80d02-4ada-4f65-b528-9cc2d258a553"
   },
   "outputs": [
    {
     "data": {
      "text/plain": [
       "Text(0.5, 1.0, 'Survivors by class and sex')"
      ]
     },
     "execution_count": 36,
     "metadata": {},
     "output_type": "execute_result"
    },
    {
     "data": {
      "image/png": "[encoded data removed]",
      "text/plain": [
       "<Figure size 1000x600 with 1 Axes>"
      ]
     },
     "metadata": {
      "needs_background": "light"
     },
     "output_type": "display_data"
    }
   ],
   "source": [
    "# visualize survivors by sex and class\n",
    "plt.figure(figsize=(10, 6), dpi=100)\n",
    "sns.barplot(data=titanic_df, x='Pclass', y='Survived', hue=titanic_df.Sex)\n",
    "plt.legend(['Female', 'Male'])\n",
    "plt.title('Survivors by class and sex')"
   ]
  },
  {
   "cell_type": "markdown",
   "metadata": {
    "id": "7hU3VZDlD5By"
   },
   "source": [
    "In the first and second class the majority of female passengers did survie, while the majoritu of male passengers did not survive, in the case of third class the half of female passengers did survie and the majority of male did not survive, in the case of male passengers the third class has the lowest percentage of surviving passengers."
   ]
  },
  {
   "cell_type": "markdown",
   "metadata": {
    "id": "FTiKAfgRD5Bz"
   },
   "source": [
    "##### **Number of survivors by class**"
   ]
  },
  {
   "cell_type": "code",
   "execution_count": 37,
   "metadata": {
    "colab": {
     "base_uri": "https://localhost:8080/",
     "height": 550
    },
    "executionInfo": {
     "elapsed": 428,
     "status": "ok",
     "timestamp": 1645468319950,
     "user": {
      "displayName": "Erik Carcelen",
      "photoUrl": "https://lh3.googleusercontent.com/a/default-user=s64",
      "userId": "05805179184931102102"
     },
     "user_tz": 300
    },
    "id": "f0UuNLOFD5Bz",
    "outputId": "927b0d69-4fa5-4791-de23-1ed5525c7cdf"
   },
   "outputs": [
    {
     "data": {
      "text/plain": [
       "<AxesSubplot:xlabel='Pclass', ylabel='count'>"
      ]
     },
     "execution_count": 37,
     "metadata": {},
     "output_type": "execute_result"
    },
    {
     "data": {
      "image/png": "[encoded data removed]",
      "text/plain": [
       "<Figure size 1000x600 with 1 Axes>"
      ]
     },
     "metadata": {
      "needs_background": "light"
     },
     "output_type": "display_data"
    }
   ],
   "source": [
    "survivors_df = titanic_df[  titanic_df.Survived == 1 ]\n",
    "plt.figure(figsize=(10, 6), dpi=100)\n",
    "sns.countplot(data=survivors_df, x='Pclass')"
   ]
  },
  {
   "cell_type": "markdown",
   "metadata": {
    "id": "ck8XGP2CD5B3"
   },
   "source": [
    "##### **Survivors by age**"
   ]
  },
  {
   "cell_type": "code",
   "execution_count": 38,
   "metadata": {
    "colab": {
     "base_uri": "https://localhost:8080/",
     "height": 550
    },
    "executionInfo": {
     "elapsed": 1127,
     "status": "ok",
     "timestamp": 1645474018188,
     "user": {
      "displayName": "Erik Carcelen",
      "photoUrl": "https://lh3.googleusercontent.com/a/default-user=s64",
      "userId": "05805179184931102102"
     },
     "user_tz": 300
    },
    "id": "w_oHga3tD5B4",
    "outputId": "cc6f5716-7d02-4525-f352-5f234b4ecacc"
   },
   "outputs": [
    {
     "data": {
      "text/plain": [
       "<AxesSubplot:xlabel='Age', ylabel='Count'>"
      ]
     },
     "execution_count": 38,
     "metadata": {},
     "output_type": "execute_result"
    },
    {
     "data": {
      "image/png": "[encoded data removed]",
      "text/plain": [
       "<Figure size 1000x600 with 1 Axes>"
      ]
     },
     "metadata": {
      "needs_background": "light"
     },
     "output_type": "display_data"
    }
   ],
   "source": [
    "plt.figure(figsize=(10, 6), dpi=100)\n",
    "sns.histplot(data=titanic_df, x='Age', hue='Survived', kde=True)"
   ]
  },
  {
   "cell_type": "markdown",
   "metadata": {
    "id": "BM49dNmgO1Ul"
   },
   "source": [
    "**Survivors by fare**"
   ]
  },
  {
   "cell_type": "code",
   "execution_count": 39,
   "metadata": {
    "colab": {
     "base_uri": "https://localhost:8080/",
     "height": 384
    },
    "executionInfo": {
     "elapsed": 607,
     "status": "ok",
     "timestamp": 1645468320522,
     "user": {
      "displayName": "Erik Carcelen",
      "photoUrl": "https://lh3.googleusercontent.com/a/default-user=s64",
      "userId": "05805179184931102102"
     },
     "user_tz": 300
    },
    "id": "_1AKpNiTO7L8",
    "outputId": "55bc1887-849b-4090-c7ee-6fde3f33860c"
   },
   "outputs": [
    {
     "data": {
      "image/png": "[encoded data removed]",
      "text/plain": [
       "<Figure size 1000x400 with 1 Axes>"
      ]
     },
     "metadata": {
      "needs_background": "light"
     },
     "output_type": "display_data"
    }
   ],
   "source": [
    "plt.figure(figsize=(10, 4), dpi=100)\n",
    "sns.histplot(data=titanic_df, x='Fare', hue='Survived', bins=30)\n",
    "plt.xticks(range(0, 500, 50))\n",
    "plt.yticks(range(0, 400, 20))\n",
    "plt.show()"
   ]
  },
  {
   "cell_type": "markdown",
   "metadata": {
    "id": "7d6Z5m0ED5B5"
   },
   "source": [
    "### **Predictive Analysis**"
   ]
  },
  {
   "cell_type": "markdown",
   "metadata": {
    "id": "QmzkmYaID5B5"
   },
   "source": [
    "**Separate data in X features and y variable**\n",
    "\n",
    "We are going use in X dataset all columns except, name, passengerid, ticket and obviusly Survived.\n",
    "\n",
    "y = Survived"
   ]
  },
  {
   "cell_type": "code",
   "execution_count": 40,
   "metadata": {
    "executionInfo": {
     "elapsed": 43,
     "status": "ok",
     "timestamp": 1645468320524,
     "user": {
      "displayName": "Erik Carcelen",
      "photoUrl": "https://lh3.googleusercontent.com/a/default-user=s64",
      "userId": "05805179184931102102"
     },
     "user_tz": 300
    },
    "id": "2Gpx6v5yD5B6"
   },
   "outputs": [],
   "source": [
    "X = titanic_df.drop(['PassengerId', 'Survived', 'Name', 'Ticket'], axis=1)\n",
    "y = titanic_df.Survived"
   ]
  },
  {
   "cell_type": "code",
   "execution_count": 41,
   "metadata": {
    "colab": {
     "base_uri": "https://localhost:8080/",
     "height": 206
    },
    "executionInfo": {
     "elapsed": 40,
     "status": "ok",
     "timestamp": 1645468320526,
     "user": {
      "displayName": "Erik Carcelen",
      "photoUrl": "https://lh3.googleusercontent.com/a/default-user=s64",
      "userId": "05805179184931102102"
     },
     "user_tz": 300
    },
    "id": "HERkawBdD5B6",
    "outputId": "bfb08710-b267-4a55-c407-0719927b3110"
   },
   "outputs": [
    {
     "data": {
      "text/html": [
       "<div>\n",
       "<style scoped>\n",
       "    .dataframe tbody tr th:only-of-type {\n",
       "        vertical-align: middle;\n",
       "    }\n",
       "\n",
       "    .dataframe tbody tr th {\n",
       "        vertical-align: top;\n",
       "    }\n",
       "\n",
       "    .dataframe thead th {\n",
       "        text-align: right;\n",
       "    }\n",
       "</style>\n",
       "<table border=\"1\" class=\"dataframe\">\n",
       "  <thead>\n",
       "    <tr style=\"text-align: right;\">\n",
       "      <th></th>\n",
       "      <th>Pclass</th>\n",
       "      <th>Sex</th>\n",
       "      <th>Age</th>\n",
       "      <th>SibSp</th>\n",
       "      <th>Parch</th>\n",
       "      <th>Fare</th>\n",
       "      <th>Embarked</th>\n",
       "    </tr>\n",
       "  </thead>\n",
       "  <tbody>\n",
       "    <tr>\n",
       "      <th>0</th>\n",
       "      <td>3</td>\n",
       "      <td>1</td>\n",
       "      <td>22</td>\n",
       "      <td>1</td>\n",
       "      <td>0</td>\n",
       "      <td>7</td>\n",
       "      <td>1</td>\n",
       "    </tr>\n",
       "    <tr>\n",
       "      <th>1</th>\n",
       "      <td>1</td>\n",
       "      <td>0</td>\n",
       "      <td>38</td>\n",
       "      <td>1</td>\n",
       "      <td>0</td>\n",
       "      <td>71</td>\n",
       "      <td>2</td>\n",
       "    </tr>\n",
       "    <tr>\n",
       "      <th>2</th>\n",
       "      <td>3</td>\n",
       "      <td>0</td>\n",
       "      <td>26</td>\n",
       "      <td>0</td>\n",
       "      <td>0</td>\n",
       "      <td>7</td>\n",
       "      <td>1</td>\n",
       "    </tr>\n",
       "    <tr>\n",
       "      <th>3</th>\n",
       "      <td>1</td>\n",
       "      <td>0</td>\n",
       "      <td>35</td>\n",
       "      <td>1</td>\n",
       "      <td>0</td>\n",
       "      <td>53</td>\n",
       "      <td>1</td>\n",
       "    </tr>\n",
       "    <tr>\n",
       "      <th>4</th>\n",
       "      <td>3</td>\n",
       "      <td>1</td>\n",
       "      <td>35</td>\n",
       "      <td>0</td>\n",
       "      <td>0</td>\n",
       "      <td>8</td>\n",
       "      <td>1</td>\n",
       "    </tr>\n",
       "  </tbody>\n",
       "</table>\n",
       "</div>"
      ],
      "text/plain": [
       "   Pclass  Sex  Age  SibSp  Parch  Fare  Embarked\n",
       "0       3    1   22      1      0     7         1\n",
       "1       1    0   38      1      0    71         2\n",
       "2       3    0   26      0      0     7         1\n",
       "3       1    0   35      1      0    53         1\n",
       "4       3    1   35      0      0     8         1"
      ]
     },
     "execution_count": 41,
     "metadata": {},
     "output_type": "execute_result"
    }
   ],
   "source": [
    "X.head()"
   ]
  },
  {
   "cell_type": "code",
   "execution_count": 42,
   "metadata": {
    "colab": {
     "base_uri": "https://localhost:8080/"
    },
    "executionInfo": {
     "elapsed": 38,
     "status": "ok",
     "timestamp": 1645468320528,
     "user": {
      "displayName": "Erik Carcelen",
      "photoUrl": "https://lh3.googleusercontent.com/a/default-user=s64",
      "userId": "05805179184931102102"
     },
     "user_tz": 300
    },
    "id": "1Tn09YqoD5B7",
    "outputId": "0f7e6113-595c-4376-d655-183a7e8644bf"
   },
   "outputs": [
    {
     "data": {
      "text/plain": [
       "0    0\n",
       "1    1\n",
       "2    1\n",
       "3    1\n",
       "4    0\n",
       "Name: Survived, dtype: int64"
      ]
     },
     "execution_count": 42,
     "metadata": {},
     "output_type": "execute_result"
    }
   ],
   "source": [
    "y.head()"
   ]
  },
  {
   "cell_type": "markdown",
   "metadata": {
    "id": "-HzJhAPWD5B8"
   },
   "source": [
    "**Train | Test and Scaling**"
   ]
  },
  {
   "cell_type": "code",
   "execution_count": 43,
   "metadata": {
    "executionInfo": {
     "elapsed": 359,
     "status": "ok",
     "timestamp": 1645468320865,
     "user": {
      "displayName": "Erik Carcelen",
      "photoUrl": "https://lh3.googleusercontent.com/a/default-user=s64",
      "userId": "05805179184931102102"
     },
     "user_tz": 300
    },
    "id": "XQAcQkEWD5B9"
   },
   "outputs": [],
   "source": [
    "from sklearn.model_selection import train_test_split\n",
    "from sklearn.preprocessing import StandardScaler"
   ]
  },
  {
   "cell_type": "code",
   "execution_count": 44,
   "metadata": {
    "executionInfo": {
     "elapsed": 87,
     "status": "ok",
     "timestamp": 1645468320867,
     "user": {
      "displayName": "Erik Carcelen",
      "photoUrl": "https://lh3.googleusercontent.com/a/default-user=s64",
      "userId": "05805179184931102102"
     },
     "user_tz": 300
    },
    "id": "sFuM9eCCD5B9"
   },
   "outputs": [],
   "source": [
    "X_train, X_test, y_train, y_test = train_test_split(X, y, test_size=0.3, random_state=101)"
   ]
  },
  {
   "cell_type": "code",
   "execution_count": 45,
   "metadata": {
    "executionInfo": {
     "elapsed": 86,
     "status": "ok",
     "timestamp": 1645468320868,
     "user": {
      "displayName": "Erik Carcelen",
      "photoUrl": "https://lh3.googleusercontent.com/a/default-user=s64",
      "userId": "05805179184931102102"
     },
     "user_tz": 300
    },
    "id": "TyxUOBPRD5B-"
   },
   "outputs": [],
   "source": [
    "# Scaling data\n",
    "scaler = StandardScaler()\n",
    "scaled_X_train = scaler.fit_transform(X_train)\n",
    "scaled_X_test = scaler.transform(X_test)"
   ]
  },
  {
   "cell_type": "markdown",
   "metadata": {
    "id": "efKdYjV7D5B-"
   },
   "source": [
    "**Logistic Model**"
   ]
  },
  {
   "cell_type": "code",
   "execution_count": 46,
   "metadata": {
    "executionInfo": {
     "elapsed": 86,
     "status": "ok",
     "timestamp": 1645468320870,
     "user": {
      "displayName": "Erik Carcelen",
      "photoUrl": "https://lh3.googleusercontent.com/a/default-user=s64",
      "userId": "05805179184931102102"
     },
     "user_tz": 300
    },
    "id": "eGtrYiarD5B_"
   },
   "outputs": [],
   "source": [
    "from sklearn.linear_model import LogisticRegressionCV"
   ]
  },
  {
   "cell_type": "code",
   "execution_count": 47,
   "metadata": {
    "executionInfo": {
     "elapsed": 85,
     "status": "ok",
     "timestamp": 1645468320872,
     "user": {
      "displayName": "Erik Carcelen",
      "photoUrl": "https://lh3.googleusercontent.com/a/default-user=s64",
      "userId": "05805179184931102102"
     },
     "user_tz": 300
    },
    "id": "SOTnPe6YD5B_"
   },
   "outputs": [],
   "source": [
    "logistic_model = LogisticRegressionCV()"
   ]
  },
  {
   "cell_type": "code",
   "execution_count": 48,
   "metadata": {
    "colab": {
     "base_uri": "https://localhost:8080/"
    },
    "executionInfo": {
     "elapsed": 84,
     "status": "ok",
     "timestamp": 1645468320874,
     "user": {
      "displayName": "Erik Carcelen",
      "photoUrl": "https://lh3.googleusercontent.com/a/default-user=s64",
      "userId": "05805179184931102102"
     },
     "user_tz": 300
    },
    "id": "x8vhW2sdD5CA",
    "outputId": "37c90107-2672-4f84-e1ca-15e7acd41602"
   },
   "outputs": [
    {
     "data": {
      "text/plain": [
       "LogisticRegressionCV()"
      ]
     },
     "execution_count": 48,
     "metadata": {},
     "output_type": "execute_result"
    }
   ],
   "source": [
    "logistic_model.fit(scaled_X_train, y_train)"
   ]
  },
  {
   "cell_type": "code",
   "execution_count": 49,
   "metadata": {
    "colab": {
     "base_uri": "https://localhost:8080/"
    },
    "executionInfo": {
     "elapsed": 71,
     "status": "ok",
     "timestamp": 1645468320875,
     "user": {
      "displayName": "Erik Carcelen",
      "photoUrl": "https://lh3.googleusercontent.com/a/default-user=s64",
      "userId": "05805179184931102102"
     },
     "user_tz": 300
    },
    "id": "wQJvL2iVD5CA",
    "outputId": "c7540652-f364-40d7-a382-13d2284e75ae"
   },
   "outputs": [
    {
     "data": {
      "text/plain": [
       "0.812199036918138"
      ]
     },
     "execution_count": 49,
     "metadata": {},
     "output_type": "execute_result"
    }
   ],
   "source": [
    "logistic_model.score(scaled_X_train, y_train)"
   ]
  },
  {
   "cell_type": "code",
   "execution_count": 50,
   "metadata": {
    "executionInfo": {
     "elapsed": 62,
     "status": "ok",
     "timestamp": 1645468320877,
     "user": {
      "displayName": "Erik Carcelen",
      "photoUrl": "https://lh3.googleusercontent.com/a/default-user=s64",
      "userId": "05805179184931102102"
     },
     "user_tz": 300
    },
    "id": "dVIUg5RCD5CB"
   },
   "outputs": [],
   "source": [
    "y_pred = logistic_model.predict(scaled_X_test)"
   ]
  },
  {
   "cell_type": "markdown",
   "metadata": {
    "id": "K5NZKnsSD5CC"
   },
   "source": [
    "### **Metrics**"
   ]
  },
  {
   "cell_type": "code",
   "execution_count": 51,
   "metadata": {
    "executionInfo": {
     "elapsed": 61,
     "status": "ok",
     "timestamp": 1645468320879,
     "user": {
      "displayName": "Erik Carcelen",
      "photoUrl": "https://lh3.googleusercontent.com/a/default-user=s64",
      "userId": "05805179184931102102"
     },
     "user_tz": 300
    },
    "id": "es-Ap7odD5CC"
   },
   "outputs": [],
   "source": [
    "from sklearn.metrics import accuracy_score, confusion_matrix, ConfusionMatrixDisplay, classification_report"
   ]
  },
  {
   "cell_type": "code",
   "execution_count": 52,
   "metadata": {
    "colab": {
     "base_uri": "https://localhost:8080/"
    },
    "executionInfo": {
     "elapsed": 61,
     "status": "ok",
     "timestamp": 1645468320881,
     "user": {
      "displayName": "Erik Carcelen",
      "photoUrl": "https://lh3.googleusercontent.com/a/default-user=s64",
      "userId": "05805179184931102102"
     },
     "user_tz": 300
    },
    "id": "bAOQDbFTD5CD",
    "outputId": "06ef732f-2964-4060-b665-1935d2b7a345"
   },
   "outputs": [
    {
     "data": {
      "text/plain": [
       "0.78"
      ]
     },
     "execution_count": 52,
     "metadata": {},
     "output_type": "execute_result"
    }
   ],
   "source": [
    "# accuracy score\n",
    "round(accuracy_score(y_test, y_pred), 2)"
   ]
  },
  {
   "cell_type": "code",
   "execution_count": 53,
   "metadata": {
    "colab": {
     "base_uri": "https://localhost:8080/"
    },
    "executionInfo": {
     "elapsed": 45,
     "status": "ok",
     "timestamp": 1645468320883,
     "user": {
      "displayName": "Erik Carcelen",
      "photoUrl": "https://lh3.googleusercontent.com/a/default-user=s64",
      "userId": "05805179184931102102"
     },
     "user_tz": 300
    },
    "id": "VWYlfEDED5CD",
    "outputId": "97ab2e4b-537b-40a0-9e9d-9e5652d5279f"
   },
   "outputs": [
    {
     "data": {
      "text/plain": [
       "array([[135,  19],\n",
       "       [ 39,  75]])"
      ]
     },
     "execution_count": 53,
     "metadata": {},
     "output_type": "execute_result"
    }
   ],
   "source": [
    "confusion_matrix(y_test, y_pred)"
   ]
  },
  {
   "cell_type": "code",
   "execution_count": 54,
   "metadata": {
    "colab": {
     "base_uri": "https://localhost:8080/",
     "height": 351
    },
    "executionInfo": {
     "elapsed": 609,
     "status": "ok",
     "timestamp": 1645468767234,
     "user": {
      "displayName": "Erik Carcelen",
      "photoUrl": "https://lh3.googleusercontent.com/a/default-user=s64",
      "userId": "05805179184931102102"
     },
     "user_tz": 300
    },
    "id": "_v3pnWynD5CE",
    "outputId": "cf4da5cd-f18c-414a-f5e4-051271285bc2"
   },
   "outputs": [
    {
     "data": {
      "text/plain": [
       "<sklearn.metrics._plot.confusion_matrix.ConfusionMatrixDisplay at 0x7fa773607730>"
      ]
     },
     "execution_count": 54,
     "metadata": {},
     "output_type": "execute_result"
    },
    {
     "data": {
      "image/png": "[encoded data removed]",
      "text/plain": [
       "<Figure size 432x288 with 2 Axes>"
      ]
     },
     "metadata": {
      "needs_background": "light"
     },
     "output_type": "display_data"
    }
   ],
   "source": [
    "ConfusionMatrixDisplay( confusion_matrix(y_test, y_pred),\n",
    "                      display_labels=logistic_model.classes_).plot()"
   ]
  },
  {
   "cell_type": "code",
   "execution_count": 55,
   "metadata": {
    "colab": {
     "base_uri": "https://localhost:8080/"
    },
    "executionInfo": {
     "elapsed": 87,
     "status": "ok",
     "timestamp": 1645468321276,
     "user": {
      "displayName": "Erik Carcelen",
      "photoUrl": "https://lh3.googleusercontent.com/a/default-user=s64",
      "userId": "05805179184931102102"
     },
     "user_tz": 300
    },
    "id": "uI5jMEs62vPg",
    "outputId": "4ef80c8b-8f23-4725-c403-3e00e543a937"
   },
   "outputs": [
    {
     "name": "stdout",
     "output_type": "stream",
     "text": [
      "              precision    recall  f1-score   support\n",
      "\n",
      "           0       0.78      0.88      0.82       154\n",
      "           1       0.80      0.66      0.72       114\n",
      "\n",
      "    accuracy                           0.78       268\n",
      "   macro avg       0.79      0.77      0.77       268\n",
      "weighted avg       0.79      0.78      0.78       268\n",
      "\n"
     ]
    }
   ],
   "source": [
    "print( classification_report(y_test, y_pred) )"
   ]
  },
  {
   "cell_type": "markdown",
   "metadata": {
    "id": "Lm6VXjo07pet"
   },
   "source": [
    "### **KNN model**"
   ]
  },
  {
   "cell_type": "code",
   "execution_count": 56,
   "metadata": {
    "executionInfo": {
     "elapsed": 197,
     "status": "ok",
     "timestamp": 1645468558830,
     "user": {
      "displayName": "Erik Carcelen",
      "photoUrl": "https://lh3.googleusercontent.com/a/default-user=s64",
      "userId": "05805179184931102102"
     },
     "user_tz": 300
    },
    "id": "Qwl0Yu-F7tty"
   },
   "outputs": [],
   "source": [
    "from sklearn.neighbors import KNeighborsClassifier\n",
    "from sklearn.pipeline import Pipeline"
   ]
  },
  {
   "cell_type": "code",
   "execution_count": 57,
   "metadata": {
    "executionInfo": {
     "elapsed": 237,
     "status": "ok",
     "timestamp": 1645468570257,
     "user": {
      "displayName": "Erik Carcelen",
      "photoUrl": "https://lh3.googleusercontent.com/a/default-user=s64",
      "userId": "05805179184931102102"
     },
     "user_tz": 300
    },
    "id": "-Ok8dX1VkaMR"
   },
   "outputs": [],
   "source": [
    "options = [ ('scaler', StandardScaler()), ('knn', KNeighborsClassifier()) ]"
   ]
  },
  {
   "cell_type": "code",
   "execution_count": 58,
   "metadata": {
    "executionInfo": {
     "elapsed": 211,
     "status": "ok",
     "timestamp": 1645468582218,
     "user": {
      "displayName": "Erik Carcelen",
      "photoUrl": "https://lh3.googleusercontent.com/a/default-user=s64",
      "userId": "05805179184931102102"
     },
     "user_tz": 300
    },
    "id": "r5EPZJL2kc_C"
   },
   "outputs": [],
   "source": [
    "pipe = Pipeline(options)"
   ]
  },
  {
   "cell_type": "code",
   "execution_count": 59,
   "metadata": {
    "executionInfo": {
     "elapsed": 260,
     "status": "ok",
     "timestamp": 1645468791877,
     "user": {
      "displayName": "Erik Carcelen",
      "photoUrl": "https://lh3.googleusercontent.com/a/default-user=s64",
      "userId": "05805179184931102102"
     },
     "user_tz": 300
    },
    "id": "UMIyHNYYkf5y"
   },
   "outputs": [],
   "source": [
    "from sklearn.model_selection import GridSearchCV"
   ]
  },
  {
   "cell_type": "code",
   "execution_count": 60,
   "metadata": {
    "executionInfo": {
     "elapsed": 279,
     "status": "ok",
     "timestamp": 1645468802071,
     "user": {
      "displayName": "Erik Carcelen",
      "photoUrl": "https://lh3.googleusercontent.com/a/default-user=s64",
      "userId": "05805179184931102102"
     },
     "user_tz": 300
    },
    "id": "EfN-RS3WlTBI"
   },
   "outputs": [],
   "source": [
    "k_values = [ x for x in range(1, 31) ]"
   ]
  },
  {
   "cell_type": "code",
   "execution_count": 61,
   "metadata": {
    "executionInfo": {
     "elapsed": 239,
     "status": "ok",
     "timestamp": 1645468812199,
     "user": {
      "displayName": "Erik Carcelen",
      "photoUrl": "https://lh3.googleusercontent.com/a/default-user=s64",
      "userId": "05805179184931102102"
     },
     "user_tz": 300
    },
    "id": "gUocjywIlVjU"
   },
   "outputs": [],
   "source": [
    "param_grid = {\n",
    "    'knn__n_neighbors': k_values\n",
    "}"
   ]
  },
  {
   "cell_type": "code",
   "execution_count": 62,
   "metadata": {
    "executionInfo": {
     "elapsed": 233,
     "status": "ok",
     "timestamp": 1645468826400,
     "user": {
      "displayName": "Erik Carcelen",
      "photoUrl": "https://lh3.googleusercontent.com/a/default-user=s64",
      "userId": "05805179184931102102"
     },
     "user_tz": 300
    },
    "id": "I5wNLdi7lYBz"
   },
   "outputs": [],
   "source": [
    "grid_knn_model = GridSearchCV(pipe, param_grid, cv=5, scoring='accuracy')"
   ]
  },
  {
   "cell_type": "code",
   "execution_count": 63,
   "metadata": {
    "colab": {
     "base_uri": "https://localhost:8080/"
    },
    "executionInfo": {
     "elapsed": 3834,
     "status": "ok",
     "timestamp": 1645468847815,
     "user": {
      "displayName": "Erik Carcelen",
      "photoUrl": "https://lh3.googleusercontent.com/a/default-user=s64",
      "userId": "05805179184931102102"
     },
     "user_tz": 300
    },
    "id": "c382MH3olbV_",
    "outputId": "200b81b3-050d-446a-fb2e-d24915993ed0"
   },
   "outputs": [
    {
     "data": {
      "text/plain": [
       "GridSearchCV(cv=5,\n",
       "             estimator=Pipeline(steps=[('scaler', StandardScaler()),\n",
       "                                       ('knn', KNeighborsClassifier())]),\n",
       "             param_grid={'knn__n_neighbors': [1, 2, 3, 4, 5, 6, 7, 8, 9, 10, 11,\n",
       "                                              12, 13, 14, 15, 16, 17, 18, 19,\n",
       "                                              20, 21, 22, 23, 24, 25, 26, 27,\n",
       "                                              28, 29, 30]},\n",
       "             scoring='accuracy')"
      ]
     },
     "execution_count": 63,
     "metadata": {},
     "output_type": "execute_result"
    }
   ],
   "source": [
    "grid_knn_model.fit( X_train, y_train )"
   ]
  },
  {
   "cell_type": "code",
   "execution_count": 64,
   "metadata": {
    "colab": {
     "base_uri": "https://localhost:8080/"
    },
    "executionInfo": {
     "elapsed": 9,
     "status": "ok",
     "timestamp": 1645468853183,
     "user": {
      "displayName": "Erik Carcelen",
      "photoUrl": "https://lh3.googleusercontent.com/a/default-user=s64",
      "userId": "05805179184931102102"
     },
     "user_tz": 300
    },
    "id": "2f3XSRkulfw9",
    "outputId": "e131f306-8c1b-4baf-a4ee-9b8cb9e39e22"
   },
   "outputs": [
    {
     "data": {
      "text/plain": [
       "{'knn__n_neighbors': 17}"
      ]
     },
     "execution_count": 64,
     "metadata": {},
     "output_type": "execute_result"
    }
   ],
   "source": [
    "grid_knn_model.best_params_"
   ]
  },
  {
   "cell_type": "code",
   "execution_count": 65,
   "metadata": {
    "colab": {
     "base_uri": "https://localhost:8080/"
    },
    "executionInfo": {
     "elapsed": 218,
     "status": "ok",
     "timestamp": 1645468864683,
     "user": {
      "displayName": "Erik Carcelen",
      "photoUrl": "https://lh3.googleusercontent.com/a/default-user=s64",
      "userId": "05805179184931102102"
     },
     "user_tz": 300
    },
    "id": "k1xbS9jglh9P",
    "outputId": "8fddb5a1-2848-4d1a-fa8e-de2bfacf1f97"
   },
   "outputs": [
    {
     "data": {
      "text/plain": [
       "0.8298555377207063"
      ]
     },
     "execution_count": 65,
     "metadata": {},
     "output_type": "execute_result"
    }
   ],
   "source": [
    "grid_knn_model.score( X_train, y_train )"
   ]
  },
  {
   "cell_type": "code",
   "execution_count": 66,
   "metadata": {
    "executionInfo": {
     "elapsed": 326,
     "status": "ok",
     "timestamp": 1645468879921,
     "user": {
      "displayName": "Erik Carcelen",
      "photoUrl": "https://lh3.googleusercontent.com/a/default-user=s64",
      "userId": "05805179184931102102"
     },
     "user_tz": 300
    },
    "id": "m7ElvlJZlk2u"
   },
   "outputs": [],
   "source": [
    "knn_y_pred = grid_knn_model.predict(X_test)"
   ]
  },
  {
   "cell_type": "code",
   "execution_count": 67,
   "metadata": {
    "colab": {
     "base_uri": "https://localhost:8080/"
    },
    "executionInfo": {
     "elapsed": 189,
     "status": "ok",
     "timestamp": 1645468890951,
     "user": {
      "displayName": "Erik Carcelen",
      "photoUrl": "https://lh3.googleusercontent.com/a/default-user=s64",
      "userId": "05805179184931102102"
     },
     "user_tz": 300
    },
    "id": "wlqOdZGmloh_",
    "outputId": "13723fbd-37a1-44ef-ae99-fd60ccb105d8"
   },
   "outputs": [
    {
     "data": {
      "text/plain": [
       "0.7798507462686567"
      ]
     },
     "execution_count": 67,
     "metadata": {},
     "output_type": "execute_result"
    }
   ],
   "source": [
    "# Metrics\n",
    "accuracy_score( y_test, knn_y_pred )"
   ]
  },
  {
   "cell_type": "code",
   "execution_count": 68,
   "metadata": {
    "colab": {
     "base_uri": "https://localhost:8080/"
    },
    "executionInfo": {
     "elapsed": 11,
     "status": "ok",
     "timestamp": 1645468901276,
     "user": {
      "displayName": "Erik Carcelen",
      "photoUrl": "https://lh3.googleusercontent.com/a/default-user=s64",
      "userId": "05805179184931102102"
     },
     "user_tz": 300
    },
    "id": "yTmLDaWSlrN9",
    "outputId": "32a1abd0-b544-4dcc-ae8f-19199dd96b65"
   },
   "outputs": [
    {
     "data": {
      "text/plain": [
       "array([[136,  18],\n",
       "       [ 41,  73]])"
      ]
     },
     "execution_count": 68,
     "metadata": {},
     "output_type": "execute_result"
    }
   ],
   "source": [
    "confusion_matrix( y_test, knn_y_pred )"
   ]
  },
  {
   "cell_type": "code",
   "execution_count": 69,
   "metadata": {
    "colab": {
     "base_uri": "https://localhost:8080/",
     "height": 368
    },
    "executionInfo": {
     "elapsed": 522,
     "status": "ok",
     "timestamp": 1645468973106,
     "user": {
      "displayName": "Erik Carcelen",
      "photoUrl": "https://lh3.googleusercontent.com/a/default-user=s64",
      "userId": "05805179184931102102"
     },
     "user_tz": 300
    },
    "id": "CltmlpKAlt02",
    "outputId": "f1b61a70-cf75-41d4-fdea-591cd7e535e9"
   },
   "outputs": [
    {
     "data": {
      "text/plain": [
       "<sklearn.metrics._plot.confusion_matrix.ConfusionMatrixDisplay at 0x7fa778a64cd0>"
      ]
     },
     "execution_count": 69,
     "metadata": {},
     "output_type": "execute_result"
    },
    {
     "data": {
      "image/png": "[encoded data removed]",
      "text/plain": [
       "<Figure size 432x288 with 2 Axes>"
      ]
     },
     "metadata": {
      "needs_background": "light"
     },
     "output_type": "display_data"
    }
   ],
   "source": [
    "ConfusionMatrixDisplay( confusion_matrix(y_test, knn_y_pred),\n",
    "                      display_labels=grid_knn_model.classes_).plot()"
   ]
  },
  {
   "cell_type": "code",
   "execution_count": 70,
   "metadata": {
    "colab": {
     "base_uri": "https://localhost:8080/"
    },
    "executionInfo": {
     "elapsed": 207,
     "status": "ok",
     "timestamp": 1645469009538,
     "user": {
      "displayName": "Erik Carcelen",
      "photoUrl": "https://lh3.googleusercontent.com/a/default-user=s64",
      "userId": "05805179184931102102"
     },
     "user_tz": 300
    },
    "id": "GAL8eI6nl23F",
    "outputId": "ae05380f-dc9b-4983-d03b-259c66affc4f"
   },
   "outputs": [
    {
     "name": "stdout",
     "output_type": "stream",
     "text": [
      "              precision    recall  f1-score   support\n",
      "\n",
      "           0       0.77      0.88      0.82       154\n",
      "           1       0.80      0.64      0.71       114\n",
      "\n",
      "    accuracy                           0.78       268\n",
      "   macro avg       0.79      0.76      0.77       268\n",
      "weighted avg       0.78      0.78      0.78       268\n",
      "\n"
     ]
    }
   ],
   "source": [
    "print( classification_report(y_test, knn_y_pred) )"
   ]
  },
  {
   "cell_type": "markdown",
   "metadata": {},
   "source": [
    "### SVM Model"
   ]
  },
  {
   "cell_type": "code",
   "execution_count": 71,
   "metadata": {},
   "outputs": [],
   "source": [
    "from sklearn.svm import SVC"
   ]
  },
  {
   "cell_type": "code",
   "execution_count": 72,
   "metadata": {},
   "outputs": [],
   "source": [
    "svm_model = SVC()"
   ]
  },
  {
   "cell_type": "code",
   "execution_count": 73,
   "metadata": {
    "tags": []
   },
   "outputs": [
    {
     "data": {
      "text/plain": [
       "SVC()"
      ]
     },
     "execution_count": 73,
     "metadata": {},
     "output_type": "execute_result"
    }
   ],
   "source": [
    "svm_model.fit(scaled_X_train, y_train)"
   ]
  },
  {
   "cell_type": "code",
   "execution_count": 74,
   "metadata": {},
   "outputs": [],
   "source": [
    "svm_y_preds = svm_model.predict(scaled_X_test)"
   ]
  },
  {
   "cell_type": "code",
   "execution_count": 75,
   "metadata": {},
   "outputs": [
    {
     "data": {
      "text/plain": [
       "array([[143,  11],\n",
       "       [ 36,  78]])"
      ]
     },
     "execution_count": 75,
     "metadata": {},
     "output_type": "execute_result"
    }
   ],
   "source": [
    "confusion_matrix(y_test, svm_y_preds)"
   ]
  },
  {
   "cell_type": "code",
   "execution_count": 76,
   "metadata": {},
   "outputs": [
    {
     "data": {
      "text/plain": [
       "<sklearn.metrics._plot.confusion_matrix.ConfusionMatrixDisplay at 0x7fa77401f640>"
      ]
     },
     "execution_count": 76,
     "metadata": {},
     "output_type": "execute_result"
    },
    {
     "data": {
      "image/png": "[encoded data removed]",
      "text/plain": [
       "<Figure size 432x288 with 2 Axes>"
      ]
     },
     "metadata": {
      "needs_background": "light"
     },
     "output_type": "display_data"
    }
   ],
   "source": [
    "ConfusionMatrixDisplay( confusion_matrix(y_test, svm_y_preds),\n",
    "                      display_labels=svm_model.classes_).plot()"
   ]
  },
  {
   "cell_type": "code",
   "execution_count": 77,
   "metadata": {},
   "outputs": [
    {
     "name": "stdout",
     "output_type": "stream",
     "text": [
      "              precision    recall  f1-score   support\n",
      "\n",
      "           0       0.80      0.93      0.86       154\n",
      "           1       0.88      0.68      0.77       114\n",
      "\n",
      "    accuracy                           0.82       268\n",
      "   macro avg       0.84      0.81      0.81       268\n",
      "weighted avg       0.83      0.82      0.82       268\n",
      "\n"
     ]
    }
   ],
   "source": [
    "print( classification_report(y_test, svm_y_preds) )"
   ]
  },
  {
   "cell_type": "markdown",
   "metadata": {},
   "source": [
    "### Deploy Best Model"
   ]
  },
  {
   "cell_type": "code",
   "execution_count": 78,
   "metadata": {},
   "outputs": [],
   "source": [
    "from joblib import dump, load"
   ]
  },
  {
   "cell_type": "code",
   "execution_count": 79,
   "metadata": {},
   "outputs": [
    {
     "data": {
      "text/plain": [
       "['titanic_model.joblib']"
      ]
     },
     "execution_count": 79,
     "metadata": {},
     "output_type": "execute_result"
    }
   ],
   "source": [
    "dump(svm_model, 'titanic_model.joblib')"
   ]
  },
  {
   "cell_type": "markdown",
   "metadata": {
    "id": "w-q1y2CY1TLS"
   },
   "source": [
    "**Conclusions**\n",
    "\n",
    "- First class of the Titanic had the majority of survivors.\n",
    "- Most survivors were women\n",
    "- The best ML model was Support Vector Machine with an accuracy about 0.82"
   ]
  }
 ],
 "metadata": {
  "colab": {
   "collapsed_sections": [],
   "name": "main.ipynb",
   "provenance": []
  },
  "interpreter": {
   "hash": "14767cdac4139e348756e0b6c7d8d8002d9805851d62598effd5b1d88fcf9731"
  },
  "kernelspec": {
   "display_name": "Python 3 (ipykernel)",
   "language": "python",
   "name": "python3"
  },
  "language_info": {
   "codemirror_mode": {
    "name": "ipython",
    "version": 3
   },
   "file_extension": ".py",
   "mimetype": "text/x-python",
   "name": "python",
   "nbconvert_exporter": "python",
   "pygments_lexer": "ipython3",
   "version": "3.8.10"
  }
 },
 "nbformat": 4,
 "nbformat_minor": 4
}
